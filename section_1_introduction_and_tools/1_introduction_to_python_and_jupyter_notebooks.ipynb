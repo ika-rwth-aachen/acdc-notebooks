{
 "cells": [
  {
   "cell_type": "markdown",
   "id": "61a7a207-5f3d-4241-80bf-b65d0981d214",
   "metadata": {},
   "source": [
    "![](../assets/header_image.png)"
   ]
  },
  {
   "cell_type": "markdown",
   "id": "357e2d56",
   "metadata": {},
   "source": [
    "# Optional Assignment 1: Introduction to Python and Jupyter Notebooks\n",
    "Welcome to the first optional assignment! \n",
    "This exercise notebook is optional. That means we only recommend this notebook to students who do *not* have expierenced with\n",
    "- **Python**\n",
    "- **JupyterLab**\n",
    "- **Jupyter Notebooks**"
   ]
  },
  {
   "cell_type": "markdown",
   "id": "bb3fada9",
   "metadata": {
    "jp-MarkdownHeadingCollapsed": true,
    "tags": []
   },
   "source": [
    "In this assignment, you will \n",
    "- get a brief introduction to Jupyter notebooks\n",
    "- learn how to take a tour of Jupyter notebooks\n",
    "- learn the difference between markdown cells and code cells\n",
    "- and practice some basic python\n"
   ]
  },
  {
   "cell_type": "markdown",
   "id": "ca3f74f5",
   "metadata": {},
   "source": [
    "## Task: Take a JupyterLab Welcome Tour\n",
    "The easiest way to become familiar with JupyterLab is to take the tour available above in the Help menu:\n",
    "\n",
    "* `Help` -> `Welcome Tour`\n",
    "\n",
    "Execute the tour step by step and learn about the different UI features of JupyterLab!"
   ]
  },
  {
   "cell_type": "markdown",
   "id": "b383ddf7",
   "metadata": {},
   "source": [
    "![](./images/welcome_tour.png)"
   ]
  },
  {
   "cell_type": "markdown",
   "id": "74b2b597-a879-47de-aebb-457e700dafe9",
   "metadata": {},
   "source": [
    "# Task: Take a Jupyter Notebook Welcome Tour\n",
    "\n",
    "Now, let's have a detailed look on Jupyter Notebooks. While Jupter Lab ist just the environment where the notebooks are placed, Jupyter Notebooks are the working sheets that we are using in this course. Click on the `Notebook tour` directly below the Welcome tour \n",
    "\n",
    "* `Help` -> `Notebook Tour`\n",
    "\n",
    "Execute the tour step by step and learn about the different features of a Jupyter Notebook."
   ]
  },
  {
   "cell_type": "markdown",
   "id": "67fe17ea",
   "metadata": {},
   "source": [
    "# Markdown Cell\n",
    "\n",
    "Let's recap the Notebook tour, because we learned some important features about Jupyter notebooks.\n",
    "\n",
    "We use two types of cells in our notebooks. Cells which contain text and images are called `Markdown Cells`. The name is derived from the formatting language **Markup** which is in these cells. We don't require you to produce markdown cells, but it is useful to understand how they work. \n",
    "\n",
    "You can change the state of a cell by using the drop down menu from above:"
   ]
  },
  {
   "cell_type": "markdown",
   "id": "5ef13921",
   "metadata": {},
   "source": [
    "![](images/drop_down_menu.png)"
   ]
  },
  {
   "cell_type": "markdown",
   "id": "979b279d-1d66-4099-a059-d3ec2abc248a",
   "metadata": {},
   "source": [
    "The most important formatting instructions for markdown syntax are\n",
    "\n",
    "- **Bold Text**: `**Bold Text**`\n",
    "- _Italic_: `_Italic_`\n",
    "- [Hyperlink](https://github.com/ika-rwth-aachen/acdc-notebooks): `[Hyperlink](https://github.com/ika-rwth-aachen/acdc-notebooks)`\n",
    "\n",
    "Furthermore you can instert an image into markdown using it's file paths or hyperlink\n",
    "```\n",
    "![](../assets/header_image.png):\n",
    "```\n",
    "And you can create lists\n",
    "\n",
    "```\n",
    "- Item 1\n",
    "- Item 2\n",
    "- Item 3\n",
    "```\n",
    "\n",
    "Checkout one of the public available [tutorials](https://markdown-it.github.io/) to learn more about markdown."
   ]
  },
  {
   "cell_type": "markdown",
   "id": "41685f77",
   "metadata": {},
   "source": [
    "# Python\n",
    "The other type of cell is the **code cell** where you can execute Python:"
   ]
  },
  {
   "cell_type": "code",
   "execution_count": null,
   "id": "6a8dc7aa",
   "metadata": {},
   "outputs": [],
   "source": [
    "# This is  a 'Code' Cell\n",
    "print(\"Hello World! I am a code cell !\")\n",
    "# This is a comment in a a code cell"
   ]
  },
  {
   "cell_type": "markdown",
   "id": "4c232443",
   "metadata": {},
   "source": [
    "To run the code in a code you have several possibilities\n",
    "\n",
    "- **Keyboard Shortcut** (Recommended): hold the <kbd>⇧ Shift</kbd> key down and hit <kbd>⏎ Enter</kbd>\n",
    "\n",
    "- **Notebook UI: Run a single cell** \n",
    "    - Click on the arrow button above (\"Run the selected cell and advance\")\n",
    "    \n",
    "![](images/run_cell.png)\n",
    "\n",
    "- **Notebook UI: Run several cells**: There are many more options unter the tab `Run` from the main menu \n",
    "    - For example you can execute all cells from top to bottom with command `Run All Cells`\n",
    " \n",
    "![](images/run_several_cells.png)"
   ]
  },
  {
   "cell_type": "markdown",
   "id": "626eae9b-4a7d-483e-91ff-d65dea078c68",
   "metadata": {},
   "source": [
    "Let's try out what we have learned. Execute the following code cells and try to understand what the code is doing:"
   ]
  },
  {
   "cell_type": "markdown",
   "id": "3cf11fce-eeea-4e31-a5a9-95ee6a4951b2",
   "metadata": {},
   "source": [
    "### Variables"
   ]
  },
  {
   "cell_type": "code",
   "execution_count": null,
   "id": "69cdc6cf-dc83-48c0-86a5-7db590292d65",
   "metadata": {},
   "outputs": [],
   "source": [
    "a = 5\n",
    "b = 10\n",
    "\n",
    "c = b / a\n",
    "print(\"a:\", a)\n",
    "print(\"b:\", b)\n",
    "print(\"c:\", c)"
   ]
  },
  {
   "cell_type": "code",
   "execution_count": null,
   "id": "2a441099-932e-49a6-aa1a-fa1a7924b564",
   "metadata": {},
   "outputs": [],
   "source": [
    "string_1 = \"Hello\"\n",
    "string_2 = \"World\"\n",
    "\n",
    "string_3 = string_1 + \" \" +  string_2\n",
    "\n",
    "print(\"string_1:\", string_1)\n",
    "print(\"string_2:\", string_2)\n",
    "print(\"string_3:\", string_3)"
   ]
  },
  {
   "cell_type": "markdown",
   "id": "0f3937b8-7bca-4c94-8a1d-17f8d61d1e65",
   "metadata": {},
   "source": [
    "### Types"
   ]
  },
  {
   "cell_type": "code",
   "execution_count": null,
   "id": "cf2b837f-6ad3-4353-9007-98d02180f62f",
   "metadata": {},
   "outputs": [],
   "source": [
    "x = str(3)    # create a string\n",
    "y = int(3)    # create an integer\n",
    "z = float(3)  # create a float\n",
    "\n",
    "print(\"x:\", x)\n",
    "print(\"y:\", y)\n",
    "print(\"z:\", z)\n",
    "\n",
    "print(\"Type of x:\", type(x))\n",
    "print(\"Type of y:\", type(y))\n",
    "print(\"Type of z:\", type(z))"
   ]
  },
  {
   "cell_type": "markdown",
   "id": "33aa6291-3264-4c3b-964c-0b7bcf8e4c49",
   "metadata": {},
   "source": [
    "### Lists"
   ]
  },
  {
   "cell_type": "code",
   "execution_count": null,
   "id": "4af53a91-bcd6-4e6a-9880-42f819c0b076",
   "metadata": {},
   "outputs": [],
   "source": [
    "my_list = []       # create an empty list\n",
    "my_list.append(x)  # append variable x from previous cell to my_list\n",
    "my_list.append(y)  # append variable y from previous cell to my_list\n",
    "my_list.append(z)  # append variable z from previous cell to my_list\n",
    "\n",
    "# loop over all elements in my_list and print them\n",
    "for element in my_list:\n",
    "    print(element)"
   ]
  },
  {
   "cell_type": "markdown",
   "id": "7b696ceb-365d-48b5-b641-3b119a5889f8",
   "metadata": {},
   "source": [
    "### Simple Loop"
   ]
  },
  {
   "cell_type": "code",
   "execution_count": null,
   "id": "958d8736-e073-42f2-ba6d-6f455f701d08",
   "metadata": {},
   "outputs": [],
   "source": [
    "for i in range(10):\n",
    "    print(i)"
   ]
  },
  {
   "cell_type": "markdown",
   "id": "3b0bb8d0-b044-4338-90b6-5a8368409913",
   "metadata": {},
   "source": [
    "### If-Else"
   ]
  },
  {
   "cell_type": "code",
   "execution_count": null,
   "id": "bd6d9f22-db46-4ed8-bc22-30b1862c73fc",
   "metadata": {},
   "outputs": [],
   "source": [
    "for i in range(10):\n",
    "    if i < 5:\n",
    "        print(\"{} is smaller than 5\".format(i))\n",
    "    elif i == 5:\n",
    "        print(\"{} is equal to 5\".format(i))\n",
    "    elif i > 5:\n",
    "        print(\"{} is bigger than 5\".format(i))"
   ]
  },
  {
   "cell_type": "markdown",
   "id": "0ffb873d-227d-4bf8-9964-edbabbd482e5",
   "metadata": {},
   "source": [
    "That were just some very basic operations in Python. If you are completely new to Python or programming in general, we recommend you to take a free online courses for Python\n",
    "- https://www.w3schools.com/python/default.asp"
   ]
  },
  {
   "cell_type": "markdown",
   "id": "96c6fcd5",
   "metadata": {},
   "source": [
    "# Wrap Up\n"
   ]
  },
  {
   "cell_type": "markdown",
   "id": "c518e1fe-15b2-418b-b139-57078d7903ef",
   "metadata": {},
   "source": [
    "- You learned how to use JupyterLab and which features are available by the UI\n",
    "- You learned how to use Jupyter Notebooks and that there exists Markdown Cells and Code Cells\n",
    "- You learned basic commands for the markdown language\n",
    "- You learned how to execute code cells in a Jupter Notebook\n",
    "- You learned basic Python instructions and you executed them in the Notebook"
   ]
  },
  {
   "cell_type": "markdown",
   "id": "d9ba0ce9-77cd-4838-8282-ed00f1e9649d",
   "metadata": {},
   "source": [
    "# References\n",
    "- [JupyterLab Tour](https://github.com/jupyterlab-contrib/jupyterlab-tour)"
   ]
  },
  {
   "cell_type": "markdown",
   "id": "8cd6e904-7b9a-45cd-86ee-01c1707b4419",
   "metadata": {},
   "source": [
    "## License\n",
    "\n",
    "MIT License\n",
    "\n",
    "Copyright 2022 Institute for Automotive Engineering of RWTH Aachen University."
   ]
  },
  {
   "cell_type": "code",
   "execution_count": null,
   "id": "9be34d4b-6c1d-4c04-98df-ba7fb1c22528",
   "metadata": {},
   "outputs": [],
   "source": []
  }
 ],
 "metadata": {
  "kernelspec": {
   "display_name": "Python 3 (ipykernel)",
   "language": "python",
   "name": "python3"
  },
  "language_info": {
   "codemirror_mode": {
    "name": "ipython",
    "version": 3
   },
   "file_extension": ".py",
   "mimetype": "text/x-python",
   "name": "python",
   "nbconvert_exporter": "python",
   "pygments_lexer": "ipython3",
   "version": "3.9.6"
  }
 },
 "nbformat": 4,
 "nbformat_minor": 5
}
