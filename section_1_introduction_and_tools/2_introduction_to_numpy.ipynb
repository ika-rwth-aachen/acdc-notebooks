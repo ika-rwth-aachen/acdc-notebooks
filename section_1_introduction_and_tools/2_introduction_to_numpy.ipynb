{
 "cells": [
  {
   "cell_type": "markdown",
   "metadata": {},
   "source": [
    "![](../assets/header_image.png)"
   ]
  },
  {
   "cell_type": "markdown",
   "metadata": {},
   "source": [
    "# Optional Assignment 2: Python, NumPy and Vectorization\n",
    "This assignment gives you a brief introduction to some of the scientific computing used in this course. We will use the popular NumPy library that is used for many scientific computing applications.\n",
    "\n",
    "\n",
    "In this optional assignment, you will learn about NumPy and more Python skills that are recommended to know for the upcoming assigments. This notebook is recommended to students who do not have any expierence in NumPy. You will learn about\n",
    "\n",
    "- Vectors\n",
    "- Matrices\n",
    "- Operations on Matrices\n",
    "- Operations on Vectors\n",
    "- Indexing\n",
    "- Accessing Elements\n",
    "- Vectorization\n",
    "\n",
    "Let's start by importing numpy. Execute the cell below"
   ]
  },
  {
   "cell_type": "code",
   "execution_count": null,
   "metadata": {},
   "outputs": [],
   "source": [
    "import numpy as np\n",
    "import time"
   ]
  },
  {
   "cell_type": "markdown",
   "metadata": {},
   "source": [
    "You can see that we imported Numpy as `np`. This is the abbreviation for `numpy` and we can now access all numpy functions with `np`:"
   ]
  },
  {
   "cell_type": "code",
   "execution_count": null,
   "metadata": {},
   "outputs": [],
   "source": [
    "np.sum([1, 2, 3])"
   ]
  },
  {
   "cell_type": "markdown",
   "metadata": {},
   "source": [
    "## References\n",
    "We can provide here only a limited introduction to NumPy, because this library is quite huge and has many features. Check out the link below if you want to learn more about this library:\n",
    "- NumPy Documentation: [NumPy.org](https://NumPy.org/doc/stable/)"
   ]
  },
  {
   "cell_type": "markdown",
   "metadata": {},
   "source": [
    "## Python and NumPy\n",
    "Python is one of the programming languages that we will use in this MOOC. It has become very popular among data scientists and machine learning engineers, because it supports many different libraries and tools such as Jupyter Notebooks. Furthermore, the syntax is quite easy to understand, but supports full object oriented programming, as well as basic mathematical operations. NumPy is a Python library which gives Python the fundamental power for scientific computing. It adds support for more numeric data types, vectors, matrices and matrix operations. Additionally, the core of NumPy is based on well-optimized C code which enables fast and efficient computations."
   ]
  },
  {
   "cell_type": "markdown",
   "metadata": {},
   "source": [
    "### Vectors, Matrices and Tensors\n",
    "Before we are getting into details, lets start by recapping how names for some mathematical objects are often used in computer science.\n",
    "\n",
    "- **Vector** is an array or tuple with a single dimension (there’s no difference between row and column vectors)\n",
    "- **Matrix** refers to an array with two dimensions\n",
    "- **Tensor** for 3-D or higher dimensional arrays"
   ]
  },
  {
   "cell_type": "markdown",
   "metadata": {},
   "source": [
    "# Vectors\n",
    "A vector $x$ refers to an ordered set of numbers, where all elements have the same data type. The \"length\" of a vector often refers to the number of its elements. $\\text{len}(x) = n$ for the example below. Using Python and NumPy, we often denote the length along a *dimension*. Vectors are represented by 1D arrays or tuples. Each element in an array can be accessed with an index. In linear algebra, the elements of a vector are often indexed from $1$ to $n$, where $i=1$ denotes the first element $x_1$ and $n$ the last element $x_n$. In programming languages however, one usually starts counting from 0. Hence, the $0^{th}$ element $x_0$ is the first element in the array and $x_{n-1}$ is the last element.\n",
    " \n",
    "NumPy and Python and also other programming languages:\n",
    "$$\n",
    "x =\n",
    "\\begin{pmatrix} \n",
    "x_{0}  \\\\\n",
    "x_{1}  \\\\\n",
    "...        \\\\\n",
    "x_{n-1} \\\\\n",
    "\\end{pmatrix}\n",
    "$$\n",
    "\n",
    "\n",
    "Typical mathematical notation:\n",
    "\n",
    "$$\n",
    "x =\n",
    "\\begin{pmatrix} \n",
    "x_{1}  \\\\\n",
    "x_{2}  \\\\\n",
    "...        \\\\\n",
    "x_{n} \\\\\n",
    "\\end{pmatrix}\n",
    "$$"
   ]
  },
  {
   "cell_type": "markdown",
   "metadata": {},
   "source": [
    "## NumPy Vector representation\n",
    "\n",
    "Using NumPy we are able to create vectors, which are indexable and contain elements of the same data type (`dtype`). Usually, these vectors are also denoted as one-dimensional or 1-D arrays, because they have only one indexed dimension, as explained above. A vector in numpy has the following properties: \n",
    "\n",
    "- 1-D array\n",
    "- shape (n,)\n",
    "- n elements\n",
    "- First element indexed [0]\n",
    "- Last element indexed [n-1]\n",
    " "
   ]
  },
  {
   "cell_type": "markdown",
   "metadata": {},
   "source": [
    "## Vector Creation\n"
   ]
  },
  {
   "cell_type": "markdown",
   "metadata": {},
   "source": [
    "NumPy provides some helpful functions to create arrays that are filled with zeros, ones or random values. These arrays can then be used to filling them with desired values. Some of the most important functions are shown below. Note that the input of these function defines the shape of the generated vector."
   ]
  },
  {
   "cell_type": "code",
   "execution_count": null,
   "metadata": {},
   "outputs": [],
   "source": [
    "a = np.zeros(4)\n",
    "print(f\"a = np.zeros(4)\\na = {a}\\na shape = {a.shape}\\na data type = {a.dtype}\")\n",
    "print(\"\\n\")\n",
    "\n",
    "a = np.zeros((4,))\n",
    "print(f\"a = np.zeros((4,))\\na = {a}\\na shape = {a.shape}\\na data type = {a.dtype}\")\n",
    "print(\"\\n\")\n",
    "\n",
    "# not a vector, but a matrix of shape 4x4\n",
    "a = np.ones((4, 4))\n",
    "print(f\"a = np.ones((4, 4))\\na = \\n{a}\\na shape = {a.shape}\\na data type = {a.dtype}\")\n",
    "print(\"\\n\")\n",
    "\n",
    "a = np.random.random_sample(5)\n",
    "print(f\"a = np.random.random_sample(5)\\na = {a}\\na shape = {a.shape}\\na data type = {a.dtype}\")\n",
    "print(\"\\n\")\n",
    "\n",
    "a = np.random.rand(4)\n",
    "print(f\"a = np.random.rand(4): \\na = {a}, \\na shape = {a.shape}, \\na data type = {a.dtype}\")"
   ]
  },
  {
   "cell_type": "markdown",
   "metadata": {},
   "source": [
    "### We can also create sequences:"
   ]
  },
  {
   "cell_type": "code",
   "execution_count": null,
   "metadata": {},
   "outputs": [],
   "source": [
    "# we generate float64 values\n",
    "a = np.arange(4.)\n",
    "print(f\"a = np.arange(4.):     \\na = {a}, \\na shape = {a.shape}, \\na data type = {a.dtype}\\n\")\n",
    "\n",
    "# we generate int64 values\n",
    "a = np.arange(4)\n",
    "print(f\"a = np.arange(4):     \\na = {a}, \\na shape = {a.shape}, \\na data type = {a.dtype}\")"
   ]
  },
  {
   "cell_type": "markdown",
   "metadata": {},
   "source": [
    "### We can also create vectors with custom values:"
   ]
  },
  {
   "cell_type": "code",
   "execution_count": null,
   "metadata": {},
   "outputs": [],
   "source": [
    "a = np.array([5,7,3,5])\n",
    "print(f\"a = np.array([5,7,3,5])  \\na = {a}     \\na shape = {a.shape} \\na data type = {a.dtype}\")\n",
    "print(\"\\n\")\n",
    "\n",
    "a = np.array([5.,4,3,10])\n",
    "print(f\"a = np.array([5.,4,3,10])\\na = {a} \\na shape = {a.shape} \\na data type = {a.dtype}\")"
   ]
  },
  {
   "cell_type": "markdown",
   "metadata": {},
   "source": [
    "Remember that a shape with  a.shape = `(4,)` indicates that the created arrays is a 1-d array.  "
   ]
  },
  {
   "cell_type": "markdown",
   "metadata": {},
   "source": [
    "## Operations on Vectors\n",
    "\n",
    "### Vector Indexing\n",
    "Elements of vectors can be accessed via indexing and slicing. NumPy provides a very rich set for indexing and slicing possibilities. We can cover only a small part of the syntax in this tutorial. If you want to get an in-depth knowledge please read the official documentation about [Slicing and Indexing](https://NumPy.org/doc/stable/reference/arrays.indexing.html). Now, we want to clarify the difference between *indexing* and *slicing*\n",
    "\n",
    "* **Indexing** means referring to *a single element* of an array by its position within the array.  \n",
    "* **Slicing** means getting a *subset* of elements from an array based on their indices or index range.\n",
    "\n",
    "Remember that NumPy starts indexing at zero so the 1st element of an vector $a$ is `a[0]`.\n",
    "NumPy provides a nice way to access the last element of an array without retrieving $n$ all the time: You can access the last element of $a$ with `a[-1]`."
   ]
  },
  {
   "cell_type": "code",
   "execution_count": null,
   "metadata": {},
   "outputs": [],
   "source": [
    "a = np.arange(10)\n",
    "print(\"a = \", a)\n",
    "\n",
    "#access a single element\n",
    "print(f\"a[2].shape: {a[2].shape} a[2]  = {a[2]} Accessing an element returns a scalar\")\n",
    "\n",
    "# access the last element, negative indexes count from the end\n",
    "print(f\"a[-1] = {a[-1]}\")\n",
    "\n",
    "# manipulate a single element in a\n",
    "a[9] = 100\n",
    "a[0] = 200\n",
    "print(\"a = \", a)\n",
    "\n",
    "#indexs must be within the range of the vector or NumPy will throw a out of bounds error\n",
    "try:\n",
    "    c = a[10]\n",
    "except Exception as e:\n",
    "    print(\"The error message you'll see is:\")\n",
    "    print(e)"
   ]
  },
  {
   "cell_type": "markdown",
   "metadata": {},
   "source": [
    "### Vector Slicing\n",
    "Slicing retrieves the elements of an array using the syntax `start:stop:step`. Let's have a look at the following examples."
   ]
  },
  {
   "cell_type": "code",
   "execution_count": null,
   "metadata": {},
   "outputs": [],
   "source": [
    "a = np.arange(10)\n",
    "print(f\"a        =  {a}\")\n",
    "\n",
    "#access 5 consecutive elements (start:stop:step)\n",
    "c = a[2:7:1];     print(\"a[2:7:1] = \", c)\n",
    "\n",
    "# access 3 elements with a step size of 2\n",
    "c = a[2:7:2];     print(\"a[2:7:2] = \", c)\n",
    "\n",
    "# access all elements beginning from index 3 to the end\n",
    "c = a[3:];        print(\"a[3:]    = \", c)\n",
    "\n",
    "# access all elements below index 3\n",
    "c = a[:3];        print(\"a[:3]    = \", c)\n",
    "\n",
    "# access all elements\n",
    "c = a[:];         print(\"a[:]     = \", c)"
   ]
  },
  {
   "cell_type": "markdown",
   "metadata": {},
   "source": [
    "### Mathematical Vector Operations"
   ]
  },
  {
   "cell_type": "markdown",
   "metadata": {},
   "source": [
    "### Single vector operations\n",
    "There are a number of useful operations that involve operations on a single vector."
   ]
  },
  {
   "cell_type": "code",
   "execution_count": null,
   "metadata": {},
   "outputs": [],
   "source": [
    "a = np.array([1,2,3,4])\n",
    "print(f\"a             : {a}\")\n",
    "\n",
    "# negate elements of a\n",
    "b = -a \n",
    "print(f\"b = -a        : {b}\")\n",
    "\n",
    "# sum all elements of a, returns a scalar\n",
    "b = np.sum(a) \n",
    "print(f\"b = np.sum(a) : {b}\")\n",
    "\n",
    "b = np.mean(a)\n",
    "print(f\"b = np.mean(a): {b}\")\n",
    "\n",
    "b = a**2\n",
    "print(f\"b = a**2      : {b}\")"
   ]
  },
  {
   "cell_type": "markdown",
   "metadata": {},
   "source": [
    "### Vector Vector element-wise operations\n",
    "Most of the NumPy arithmetic, logical and comparison operations apply to vectors as well. These operators work on an element-by-element basis. For example \n",
    "$$ c_i = a_i + b_i $$"
   ]
  },
  {
   "cell_type": "code",
   "execution_count": null,
   "metadata": {},
   "outputs": [],
   "source": [
    "a = np.array([ 1, 2, 3, 4])\n",
    "b = np.array([-1,-2, 3, 4])\n",
    "print(f\"Binary operators work element-wise: {a - b}\")"
   ]
  },
  {
   "cell_type": "markdown",
   "metadata": {},
   "source": [
    "Note that many operations required the exact same shapes of their inputs for their two operands."
   ]
  },
  {
   "cell_type": "markdown",
   "metadata": {},
   "source": [
    "Of course, for this to work correctly, the vectors must be of the same size:"
   ]
  },
  {
   "cell_type": "code",
   "execution_count": null,
   "metadata": {
    "tags": []
   },
   "outputs": [],
   "source": [
    "c = np.array([1, 2])\n",
    "a = np.array([1, 2, 3, 4])\n",
    "\n",
    "try:\n",
    "    d = a + c\n",
    "except Exception as e:\n",
    "    print(\"The error message you'll see is:\")\n",
    "    print(e)"
   ]
  },
  {
   "cell_type": "markdown",
   "metadata": {},
   "source": [
    "We can also combine scalars with arrays:"
   ]
  },
  {
   "cell_type": "markdown",
   "metadata": {},
   "source": [
    "### Scalar Vector operations\n",
    "Vectors can be 'scaled' by scalar values. A scalar value is just a number. The scalar multiplies all the elements of the vector."
   ]
  },
  {
   "cell_type": "code",
   "execution_count": null,
   "metadata": {},
   "outputs": [],
   "source": [
    "a = np.array([1, 2, 3, 4])\n",
    "\n",
    "b = 5 * a \n",
    "\n",
    "print(f\"b = 5 * a : {b}\")"
   ]
  },
  {
   "cell_type": "markdown",
   "metadata": {},
   "source": [
    "### Vectorization: Vector Vector dot product\n",
    "We want to test the effectiveness of vectorization by implementing a vector dot product between two arrays $a$ and $b$:\n",
    "\n",
    "$$\n",
    "a \\cdot b = \\sum^{n-1}_{i=0} a_i b_i\n",
    "$$\n",
    "\n",
    "We will implement the function in three ways:\n",
    "\n",
    "* **Explicit Loop**: Iterate over all elements of the vectors and use indexing to retrieve the elements, then perform multiplication and addition.\n",
    "* **NumPy Build-In**: Use numpy's build-in functions `np.dot`.\n",
    "* **NumPy Manual Vectorization**: Use NumPy's function to implement a own version of a vectorized `np.dot` function.\n",
    "\n",
    "Vector dot product requires the dimensions of the two vectors to be the same."
   ]
  },
  {
   "cell_type": "markdown",
   "metadata": {},
   "source": [
    "Let's implement our own version of the dot product below:\n",
    "\n",
    "**Using a for loop**, implement a function which returns the dot product of two vectors. The function to return given inputs $a$ and $b$:\n",
    "$$ x = \\sum_{i=0}^{n-1} a_i b_i $$\n",
    "Assume both `a` and `b` are the same shape."
   ]
  },
  {
   "cell_type": "code",
   "execution_count": null,
   "metadata": {},
   "outputs": [],
   "source": [
    "def dot_vectorized(a, b):\n",
    "    \"\"\"\n",
    "    Compute the dot product of two vectors\n",
    "    Arguments:\n",
    "        a: numpy nd array with length n\n",
    "        b: numpy nd array with length n\n",
    "    Returns:\n",
    "        x: dot product of a and b as scalar\n",
    "    \"\"\"\n",
    "    return np.sum(a*b)"
   ]
  },
  {
   "cell_type": "code",
   "execution_count": null,
   "metadata": {},
   "outputs": [],
   "source": [
    "def dot_loop(a, b): \n",
    "    \"\"\"\n",
    "    Compute the dot product of two vectors\n",
    "    Arguments:\n",
    "        a: numpy nd array with length n\n",
    "        b: numpy nd array with length n\n",
    "    Returns:\n",
    "        x: dot product of a and b as scalar\n",
    "    \"\"\"\n",
    "    x = 0\n",
    "    for i in range(a.shape[0]):\n",
    "        x = x + a[i] * b[i]\n",
    "    return x"
   ]
  },
  {
   "cell_type": "code",
   "execution_count": null,
   "metadata": {},
   "outputs": [],
   "source": [
    "a = np.array([5, 3, 2, 1])\n",
    "b = np.array([-1, 9, 7, 2])\n",
    "print(f\"Function: dot_loop(a, b) \\t = {dot_loop(a, b)}\")\n",
    "\n",
    "# Function dot_vectorized\n",
    "c = dot_vectorized(a, b)\n",
    "print(f\"Function: dot_vectorized(a, b) \\t = {dot_loop(a, b)}\")\n",
    "\n",
    "# Build in numpy's dot function\n",
    "c = np.dot(a, b)\n",
    "print(f\"NumPy Build-In: np.dot(a, b) \\t = {c}\") "
   ]
  },
  {
   "cell_type": "markdown",
   "metadata": {},
   "source": [
    "You can see that the implementation in `dot_loop()` matches the results of `dot_vectorized()` and `np.dot()`"
   ]
  },
  {
   "cell_type": "markdown",
   "metadata": {},
   "source": [
    "Now, let's measure the **time** that each function needs to compute for two very large vectors."
   ]
  },
  {
   "cell_type": "markdown",
   "metadata": {},
   "source": [
    "### Speed comparison: Vector vs Loop vs Build-In\n",
    "Now let's create two huge vectors and let's measure the time each approach needs to compute the dot product"
   ]
  },
  {
   "cell_type": "code",
   "execution_count": null,
   "metadata": {},
   "outputs": [],
   "source": [
    "np.random.seed(1337)\n",
    "a = np.random.rand(10000000) \n",
    "b = np.random.rand(10000000)\n",
    "\n",
    "\n",
    "tic = time.time()  # capture start time\n",
    "c = np.dot(a, b)\n",
    "toc = time.time()  # capture end time\n",
    "print(f\"np.dot(a, b) =\\t\\t\\t {c:.4f}\")\n",
    "print(f\"Build-In Function: \\t\\t {1000*(toc-tic):.4f} ms \")\n",
    "print(\"\\n\")\n",
    "\n",
    "\n",
    "\n",
    "tic = time.time()  # capture start time\n",
    "c = dot_vectorized(a, b)\n",
    "toc = time.time()  # capture end time\n",
    "print(f\"dot_vectorized(a, b) =\\t\\t {c:.4f}\")\n",
    "print(f\"Function dot_vectorized(a, b): \\t {1000*(toc-tic):.4f} ms \")\n",
    "print(\"\\n\")\n",
    "\n",
    "\n",
    "\n",
    "tic = time.time()  # capture start time\n",
    "c = dot_loop(a,b)\n",
    "toc = time.time()  # capture end time\n",
    "print(f\"dot_loop(a, b) =\\t\\t {c:.4f}\")\n",
    "print(f\"Function dot_loop(a, b): \\t {1000*(toc-tic):.4f} ms \")\n",
    "\n",
    "\n",
    "del(a);del(b)  # remove arrays from memory"
   ]
  },
  {
   "cell_type": "markdown",
   "metadata": {},
   "source": [
    "As you can see, the built-in vectorized implementation gives a much better performance than the manual loop. The manual vectorized code in `dot_vectorized` also performs well, but a bit slower than the built-in fuction. \n",
    "\n",
    "The vectorized code performs faster, because it makes better use of available data parallelism in the underlying hardware. GPUs and modern CPUs implement Single Instruction, Multiple Data (SIMD) pipelines allowing multiple operations to be computed in parallel."
   ]
  },
  {
   "cell_type": "code",
   "execution_count": null,
   "metadata": {},
   "outputs": [],
   "source": [
    "X = np.array([[1],[2],[3],[4]])\n",
    "w = np.array([2])\n",
    "c = np.dot(X[1], w)\n",
    "\n",
    "print(f\"X[1] has shape {X[1].shape}\")\n",
    "print(f\"w has shape {w.shape}\")\n",
    "print(f\"c has shape {c.shape}\")"
   ]
  },
  {
   "cell_type": "markdown",
   "metadata": {},
   "source": [
    "# Matrices\n"
   ]
  },
  {
   "cell_type": "markdown",
   "metadata": {},
   "source": [
    "Matrices are arrays with two dimensions. Again, the elements of a matrix are all of the same type. We usually use a capital letter e.g. $X$ to denote that this variable is a matrix. Furthermore, we usually set `m` as the number of rows and `n` as number of columns. The elements of a matrix can be referenced with a two-dimensional index. Similar to vectors, we start from index 0 when we are programming with matrices.\n",
    "\n",
    "NumPy and Python and also other programming languages with index starting from 0:\n",
    "$$\n",
    "X =\n",
    "\\begin{pmatrix} \n",
    "X_{00} & X_{01} & ... & X_{0 (n-1)} \\\\\n",
    "X_{10} & X_{11} & ... & X_{1 (n-1)} \\\\\n",
    "...    & ...    & ... & ...         \\\\\n",
    "X_{(m-1)0} & X_{(m-1)1} & ... & X_{(m-1) (n-1)} \\\\\n",
    "\\end{pmatrix}\n",
    "$$\n",
    "\n",
    "\n",
    "Notation in math class with index starting from $1$:\n",
    "$$\n",
    "X =\n",
    "\\begin{pmatrix} \n",
    "X_{11} & X_{12} & ... & X_{1n} \\\\\n",
    "X_{21} & X_{22} & ... & X_{1n} \\\\\n",
    "...    & ...    & ... & ...    \\\\\n",
    "X_{m1} & X_{m2} & ... & X_{mn} \\\\\n",
    "\\end{pmatrix}\n",
    "$$"
   ]
  },
  {
   "cell_type": "markdown",
   "metadata": {},
   "source": [
    "### Matrix Creation\n",
    "The same functions that we used above to created 1-D vectors will also create 2-D or n-D arrays.\n",
    "\n",
    "Notice that we now provide a tuple as shape for example `(1, 5)`. That means, for each dimension, we provide the number of indices that has to be generated. For `(1, 5)` we generate only one index in the first dimension and for the second dimension we will create 5 indices."
   ]
  },
  {
   "cell_type": "code",
   "execution_count": null,
   "metadata": {},
   "outputs": [],
   "source": [
    "a = np.zeros((1, 5))                                       \n",
    "print(f\"a shape = {a.shape}\")\n",
    "print(f\"a = {a}\\n\")                     \n",
    "\n",
    "\n",
    "a = np.zeros((2, 1))                                                                   \n",
    "print(f\"a shape = {a.shape}\")\n",
    "print(f\"a = \\n{a}\\n\") \n",
    "\n",
    "\n",
    "a = np.ones((7, 5))                                                                   \n",
    "print(f\"a shape = {a.shape}\")\n",
    "print(f\"a = \\n{a}\\n\") \n",
    "\n",
    "\n",
    "a = np.ones((2, 7)) * 7                                                                \n",
    "print(f\"a shape = {a.shape}\")\n",
    "print(f\"a = \\n{a}\\n\") \n",
    "\n",
    "\n",
    "a = np.random.random_sample((1, 1))  \n",
    "print(f\"a shape = {a.shape}\")\n",
    "print(f\"a = {a}\") "
   ]
  },
  {
   "cell_type": "markdown",
   "metadata": {},
   "source": [
    "You can also manually specify the elements of the matrix. Notice that the brackets need to match the convention from above's printing."
   ]
  },
  {
   "cell_type": "code",
   "execution_count": null,
   "metadata": {},
   "outputs": [],
   "source": [
    "a = np.array([[5], [4], [3]])\n",
    "print(f\"a shape = {a.shape}\")\n",
    "print(f\"np.array: a = \\n{a} \\n\")\n",
    "\n",
    "\n",
    "# You can also continue the next line for better readability\n",
    "a = np.array([[5],   \n",
    "              [4],   \n",
    "              [3]])\n",
    "print(f\"a shape = {a.shape}\")\n",
    "print(f\"np.array: a = \\n{a}\")"
   ]
  },
  {
   "cell_type": "markdown",
   "metadata": {},
   "source": [
    "### Indexing\n"
   ]
  },
  {
   "cell_type": "markdown",
   "metadata": {},
   "source": [
    "Matrices use two indices, because we have two dimensions. You can access an element in the matrix using $[i,j] \\; \\forall 0<i<n-1 \\;, 0j<m-1$. That means the first index defines the row and the second index defines the column $[row, column]$."
   ]
  },
  {
   "cell_type": "code",
   "execution_count": null,
   "metadata": {},
   "outputs": [],
   "source": [
    "a = np.arange(6).reshape(-1, 2)   #reshape is a convenient way to create matrices\n",
    "print(f\"a.shape: {a.shape}\")\n",
    "print(f\"a= \\n{a}\\n\")\n",
    "\n",
    "print(\"Access an element in the matrix:\")\n",
    "print(f\"a[2,0].shape: {a[2, 0].shape}\")\n",
    "print(f\"a[2,0] = {a[2, 0]}\")\n",
    "print(f\"type(a[2,0]) = {type(a[2, 0])}\\nAccessing an element returns a scalar\\n\")\n",
    "\n",
    "print(\"Access a row in the matrix:\")\n",
    "print(f\"a[2].shape: {a[2].shape}\")\n",
    "print(f\"a[2] = {a[2]}\")\n",
    "print(f\"type(a[2]): = {type(a[2])}\")"
   ]
  },
  {
   "cell_type": "markdown",
   "metadata": {},
   "source": [
    "It is worth drawing attention to the last example. Accessing a matrix by just specifying the row will return a *1-D vector*."
   ]
  },
  {
   "cell_type": "markdown",
   "metadata": {},
   "source": [
    "### Reshape \n",
    "We can also [reshape](https://numpy.org/doc/stable/reference/generated/numpy.reshape.html) arrays into a new shape. That means, we can reshape a 1-D array into a 2-D array and vice versa.  "
   ]
  },
  {
   "cell_type": "code",
   "execution_count": null,
   "metadata": {},
   "outputs": [],
   "source": [
    "a = np.arange(6).reshape(-1, 2)\n",
    "print(\"a = \\n\", a)\n",
    "print(\"a.shape =\",a.shape, \"\\n\")\n",
    "\n",
    "a = np.arange(6).reshape(3, 2)\n",
    "print(\"a = \\n\", a)\n",
    "print(\"a.shape =\",a.shape, \"\\n\")\n",
    "\n",
    "a = np.ones((2, 3)).reshape(-1)\n",
    "print(\"a = \\n\", a)\n",
    "print(\"a.shape =\",a.shape, \"\\n\")"
   ]
  },
  {
   "cell_type": "markdown",
   "metadata": {},
   "source": [
    "Note, that the -1 argument tells this function to automatically determine the number of this dimension given the size of the array and the number of the other dimensions."
   ]
  },
  {
   "cell_type": "markdown",
   "metadata": {},
   "source": [
    "### Slicing\n",
    "Slicing on a 2-D array creates a new 1-D array or a 2-D array depending on the usage of `start:stop:step` applied on each dimension."
   ]
  },
  {
   "cell_type": "code",
   "execution_count": null,
   "metadata": {},
   "outputs": [],
   "source": [
    "#vector 2-D slicing operations\n",
    "a = np.arange(20).reshape(-1, 10)\n",
    "print(f\"a = \\n{a}\")\n",
    "\n",
    "#access 5 consecutive elements (start:stop:step)\n",
    "print(\"\\na[0, 2:7:1] = \", a[0, 2:7:1])\n",
    "print(\"a[0, 2:7:1].shape =\", a[0, 2:7:1].shape, \"a 1-D array \\n\")\n",
    "\n",
    "#access 5 consecutive elements (start:stop:step) in two rows\n",
    "print(\"\\na[:, 2:7:1] = \\n\", a[:, 2:7:1])\n",
    "print(\"a[:, 2:7:1].shape =\", a[:, 2:7:1].shape, \"a 2-D array \\n\")\n",
    "\n",
    "# access all elements\n",
    "print(\"a[:,:] = \\n\", a[:,:])\n",
    "print(\"a[:,:].shape =\", a[:,:].shape, \"a 2-D array\")\n",
    "\n",
    "\n",
    "# access all elements in one row (very common usage)\n",
    "print(\"\\na[1,:] = \", a[1,:])\n",
    "print(\"a[1,:].shape =\", a[1,:].shape, \"a 1-D array\")\n",
    "\n",
    "# same as\n",
    "print(\"\\na[1]   = \", a[1])\n",
    "print(\"a[1].shape   =\", a[1].shape, \"a 1-D array\")"
   ]
  },
  {
   "cell_type": "markdown",
   "metadata": {},
   "source": [
    "# Task: Mean Squared Error\n",
    "Now, let's practice your skills that you just have learned in this notebook. Implement the following mean squared error\n",
    "\n",
    "$$\n",
    "L(\\vec{a}, \\vec{b}) = \\frac{1}{n} \\sum^{n-1}_{i=0} (a_i - b_i)^2\n",
    "$$\n",
    "\n",
    "for two vectors in two ways\n",
    " \n",
    "- Loop Implementation\n",
    "- Vectorized Implementation"
   ]
  },
  {
   "cell_type": "code",
   "execution_count": null,
   "metadata": {},
   "outputs": [],
   "source": [
    "def mean_squared_error_loop(a, b):\n",
    "    \"\"\"\n",
    "    Loop implementation of a mean squared error between two vectors\n",
    "    Arguments:\n",
    "      a: numpy nd-array with size (n)\n",
    "      b: numpy nd-array with size (n)\n",
    "    Returns:\n",
    "      error: scalar which is the squared error of a and b\n",
    "    \"\"\"\n",
    "    error = 0    \n",
    "    n = len(a)\n",
    "    ### START CODE HERE ###\n",
    "    \n",
    "    \n",
    "    ### END CODE HERE ###\n",
    "    return error"
   ]
  },
  {
   "cell_type": "markdown",
   "metadata": {},
   "source": [
    "**Hints**\n",
    "- Write a loop using `range(n)`\n",
    "- Access the vectors' elements using `[i]`\n",
    "- Don't forget do compute the mean"
   ]
  },
  {
   "cell_type": "code",
   "execution_count": null,
   "metadata": {},
   "outputs": [],
   "source": [
    "np.random.seed(1337)\n",
    "a = np.random.randn(1000)\n",
    "b = np.random.randn(1000)\n",
    "mean_squared_error_loop(a, b)"
   ]
  },
  {
   "cell_type": "markdown",
   "metadata": {},
   "source": [
    "### Expected Result\n",
    "1.8469650817618783"
   ]
  },
  {
   "cell_type": "code",
   "execution_count": null,
   "metadata": {},
   "outputs": [],
   "source": [
    "def mean_squared_error_vectorized(a, b):\n",
    "    \"\"\"\n",
    "    Vectorized implementation of a mean squared error between two vectors\n",
    "    Arguments:\n",
    "      a: numpy nd-array with size (n)\n",
    "      b: numpy nd-array with size (n)\n",
    "    Returns:\n",
    "      error: scalar which is the squared error of a and b\n",
    "    \"\"\"\n",
    "    error = 0    \n",
    "    ### START CODE HERE ###\n",
    "    \n",
    "    \n",
    "    ### END CODE HERE ###\n",
    "    return error"
   ]
  },
  {
   "cell_type": "markdown",
   "metadata": {},
   "source": [
    "**Hints**\n",
    "- Use [`np.sum()`](https://numpy.org/doc/stable/reference/generated/numpy.sum.html)\n",
    "- You can use [`np.square()`](https://numpy.org/doc/stable/reference/generated/numpy.square.html) or `x**2` to compute $x^2$\n",
    "- Don't forget to compute the mean"
   ]
  },
  {
   "cell_type": "code",
   "execution_count": null,
   "metadata": {},
   "outputs": [],
   "source": [
    "np.random.seed(1337)\n",
    "a = np.random.randn(1000)\n",
    "b = np.random.randn(1000)\n",
    "mean_squared_error_vectorized(a, b)"
   ]
  },
  {
   "cell_type": "markdown",
   "metadata": {},
   "source": [
    "### Expected Result\n",
    "1.846965081761879"
   ]
  },
  {
   "cell_type": "markdown",
   "metadata": {},
   "source": [
    "## Time Comparison"
   ]
  },
  {
   "cell_type": "code",
   "execution_count": null,
   "metadata": {},
   "outputs": [],
   "source": [
    "tic = time.time()\n",
    "mean_squared_error_loop(a, b)\n",
    "toc = time.time()\n",
    "print(f\"Loop version duration: {1000*(toc-tic):.4f} ms \")\n",
    "\n",
    "\n",
    "tic = time.time()\n",
    "mean_squared_error_vectorized(a, b)\n",
    "toc = time.time()\n",
    "print(f\"Vectorized version duration: {1000*(toc-tic):.4f} ms \")"
   ]
  },
  {
   "cell_type": "markdown",
   "metadata": {},
   "source": [
    "# Wrap up\n",
    "\n",
    "- You learned how to create Numpy arrays and matrices that are filled with random numbers or zeros\n",
    "- You learned to apply basic operations to Numpy arrays\n",
    "- You learned the difference between slicing and indexing\n",
    "- You learned that a vectorized implementation is often much faster than loop-based solutions"
   ]
  },
  {
   "cell_type": "markdown",
   "metadata": {},
   "source": [
    "# References\n",
    "```\n",
    "@Article{         harris2020array,\n",
    " title         = {Array programming with {NumPy}},\n",
    " author        = {Charles R. Harris and K. Jarrod Millman and St{\\'{e}}fan J.\n",
    "                 van der Walt and Ralf Gommers and Pauli Virtanen and David\n",
    "                 Cournapeau and Eric Wieser and Julian Taylor and Sebastian\n",
    "                 Berg and Nathaniel J. Smith and Robert Kern and Matti Picus\n",
    "                 and Stephan Hoyer and Marten H. van Kerkwijk and Matthew\n",
    "                 Brett and Allan Haldane and Jaime Fern{\\'{a}}ndez del\n",
    "                 R{\\'{i}}o and Mark Wiebe and Pearu Peterson and Pierre\n",
    "                 G{\\'{e}}rard-Marchant and Kevin Sheppard and Tyler Reddy and\n",
    "                 Warren Weckesser and Hameer Abbasi and Christoph Gohlke and\n",
    "                 Travis E. Oliphant},\n",
    " year          = {2020},\n",
    " month         = sep,\n",
    " journal       = {Nature},\n",
    " volume        = {585},\n",
    " number        = {7825},\n",
    " pages         = {357--362},\n",
    " doi           = {10.1038/s41586-020-2649-2},\n",
    " publisher     = {Springer Science and Business Media {LLC}},\n",
    " url           = {https://doi.org/10.1038/s41586-020-2649-2}\n",
    "}\n",
    "```"
   ]
  },
  {
   "cell_type": "markdown",
   "metadata": {},
   "source": [
    "## License\n",
    "\n",
    "MIT License\n",
    "\n",
    "Copyright 2022 Institute for Automotive Engineering of RWTH Aachen University."
   ]
  },
  {
   "cell_type": "code",
   "execution_count": null,
   "metadata": {},
   "outputs": [],
   "source": []
  }
 ],
 "metadata": {
  "dl_toc_settings": {
   "rndtag": "40015"
  },
  "kernelspec": {
   "display_name": "Python 3.8.11 ('slikaf')",
   "language": "python",
   "name": "python3"
  },
  "language_info": {
   "codemirror_mode": {
    "name": "ipython",
    "version": 3
   },
   "file_extension": ".py",
   "mimetype": "text/x-python",
   "name": "python",
   "nbconvert_exporter": "python",
   "pygments_lexer": "ipython3",
   "version": "3.8.11"
  },
  "toc-autonumbering": false,
  "vscode": {
   "interpreter": {
    "hash": "d46e858a35ff40b1b89ea550f691785daaae15bccbfcc9376727f80a1e0b5ac6"
   }
  }
 },
 "nbformat": 4,
 "nbformat_minor": 4
}
