{
 "cells": [
  {
   "cell_type": "markdown",
   "metadata": {},
   "source": [
    "![Header Image]( ../assets/header_image.png \"Header Image\")"
   ]
  },
  {
   "cell_type": "markdown",
   "metadata": {},
   "source": [
    "# Assignment: Localization"
   ]
  },
  {
   "cell_type": "markdown",
   "metadata": {},
   "source": [
    "Welcome to the assignment **Localization**.\n",
    "\n",
    "In this assignment, we will use the bag-file that has been recorded in the end of the C++ task to evaluate the implemented solution.\n",
    "There to we will walk through the following steps:\n",
    "\n",
    "- Importing and parsing of the information from the bag-file using [rosbags](https://pypi.org/project/rosbags/)\n",
    "- Converting the imported data into a [pandas](https://pandas.pydata.org/) dataframe.\n",
    "- Assignment of ground-truth poses to the corresponding estimated vehicle poses\n",
    "- Implementation and visualization of various metrics for the evaluation of the pose estimation."
   ]
  },
  {
   "cell_type": "markdown",
   "metadata": {},
   "source": [
    "### Import \n",
    "Let's start by importing all the necessary packages for this assignment:"
   ]
  },
  {
   "cell_type": "code",
   "execution_count": 1,
   "metadata": {},
   "outputs": [],
   "source": [
    "import numpy as np\n",
    "import pandas as pd\n",
    "import matplotlib.pyplot as plt\n",
    "from matplotlib.colors import Normalize\n",
    "from matplotlib.cm import ScalarMappable\n",
    "\n",
    "from rosbags.rosbag2 import Reader\n",
    "from rosbags.serde import deserialize_cdr"
   ]
  },
  {
   "cell_type": "markdown",
   "metadata": {},
   "source": [
    "## Introduction to `TrajectoryPoint2D`-Class\n",
    "In this assignment we will evaluate the estimated pose of the vehicle. In the first step we will load the data from the bag file and store the information in a list of `TrajectoryPoint2D`.\n",
    "\n",
    "An object of class `TrajectoryPoint2D` holds the following members:\n",
    " - `x` x-Position of the vehicle in map-frame [m]\n",
    " - `y` y-Position of the vehicle in map-frame [m]\n",
    " - `psi` yaw-Angle of the vehicle in map-frame [deg]\n",
    " - `t` timestamp of pose [s]\n",
    "\n",
    "Next to the member objects the class offers two relevant functions:\n",
    " - `def from_odometry(self, odometry)`\n",
    " - `def from_pose(self, pose)`\n",
    " \n",
    "Both functions are called on an `TrajectoryPoint2D`-object and set all member variables of this object based on a `nav_msgs::msg::Odometry` respectively a `geometry_msgs::msg::PoseStamped` message.\n",
    "\n",
    "To make use of this class we import `TrajectoryPoint2D` in the following:"
   ]
  },
  {
   "cell_type": "code",
   "execution_count": 2,
   "metadata": {},
   "outputs": [],
   "source": [
    "from localization.trajectory import TrajectoryPoint2D"
   ]
  },
  {
   "cell_type": "markdown",
   "metadata": {},
   "source": [
    "## Task: Importing data from a ROS2 Bag-File using [rosbags](https://pypi.org/project/rosbags/)\n",
    "\n",
    "First of all we need to import the data that we've captured within a ROS2 bag-file.\n",
    "We will use the [rosbags](https://pypi.org/project/rosbags/)-package for this purpose. For further information please refere to the [rosbags documentation](https://ternaris.gitlab.io/rosbags/).\n",
    "\n",
    "To load the bag-file, copy it into the `${REPOSITORY}/bag` directory of this repository.\n",
    "Afterwards specify the name of the folder that contains the `*.db3`-file."
   ]
  },
  {
   "cell_type": "code",
   "execution_count": 12,
   "metadata": {},
   "outputs": [],
   "source": [
    "bag_path = '../bag'\n",
    "### START CODE HERE ###\n",
    "bag_folder_name = None\n",
    "### Solution:\n",
    "bag_folder_name = 'localization_evaluation'\n",
    "### END CODE HERE ###\n",
    "bag_path += '/'+bag_folder_name"
   ]
  },
  {
   "cell_type": "markdown",
   "metadata": {},
   "source": [
    "Now we need to finish the implementation of the `read_trajectory` function. This function reads a given bag-file and returns a list of `TrajectoryPoint2D` based on a `nav_msgs::msg::Odometry` or a `geometry_msgs::msg::PoseStamped` message. Try to understand how this function works and fill in the gaps.\n",
    "\n",
    "\n",
    "Your task is to call the functions `from_odometry` respectively `from_point` on a `TrajectoryPoint2D`-object and append the resulting point to the trajectory."
   ]
  },
  {
   "cell_type": "code",
   "execution_count": 13,
   "metadata": {},
   "outputs": [],
   "source": [
    "def read_trajectory(bag_path, topic_name):\n",
    "    \"\"\"\n",
    "    Reads a given bag-file and returns a list of TrajectoryPoint2D based on a nav_msgs::msg::Odometry or a geometry_msgs::msg::PoseStamped message\n",
    "    \n",
    "    Arguments:\n",
    "    bag_path -- String indicating the location of the bag-file\n",
    "    topic_name -- String indicating the topic name to derive the trajectory from\n",
    "    \n",
    "    Returns:\n",
    "    trj -- List of TrajectoryPoint2D\n",
    "    \"\"\"\n",
    "    # create and open a rosbag-reader\n",
    "    with Reader(bag_path) as reader:\n",
    "        # create an empty list that represents the trajectory\n",
    "        trj = []\n",
    "        # get connection that represents the specific topic\n",
    "        connection = [x for x in reader.connections if x.topic == topic_name]\n",
    "        # iterate over messages of specific topic\n",
    "        for connection, timestamp, rawdata in reader.messages(connections=connection):\n",
    "            # initialize a TrajectoryPoint2D-object\n",
    "            point = TrajectoryPoint2D()\n",
    "            # deserialize the rawdata based on the specific msgtype\n",
    "            msg = deserialize_cdr(rawdata, connection.msgtype)\n",
    "            if connection.msgtype == 'nav_msgs/msg/Odometry':               \n",
    "                ### START CODE HERE ###\n",
    "                # set all members of the TrajectoryPoint2D-object based on a nav_msgs::msg::Odometry\n",
    "                \n",
    "                # append the TrajectoryPoint2D-object to trajectory\n",
    "                \n",
    "                ### Solution:\n",
    "                # set all members of the TrajectoryPoint2D-object based on a nav_msgs::msg::Odometry\n",
    "                point.from_odometry(msg)\n",
    "                # append the TrajectoryPoint2D-object to trajectory\n",
    "                trj.append(point)\n",
    "                ### END CODE HERE ###\n",
    "            elif connection.msgtype=='geometry_msgs/msg/PoseStamped':\n",
    "                ### START CODE HERE ###\n",
    "                # set all members of the TrajectoryPoint2D-object based on a geometry_msgs::msg::PoseStamped\n",
    "                \n",
    "                # append the TrajectoryPoint2D-object to trajectory\n",
    "                \n",
    "                ### Solution:\n",
    "                # set all members of the TrajectoryPoint2D-object based on a geometry_msgs::msg::PoseStamped\n",
    "                point.from_pose(msg)\n",
    "                # append the TrajectoryPoint2D-object to trajectory\n",
    "                trj.append(point)\n",
    "                ### END CODE HERE ###\n",
    "            else:\n",
    "                # print message if topic contains a message of unsupported type\n",
    "                print(\"Message format {} is currently not supported!\".format(connection.msgtype))\n",
    "        # return the trajectory\n",
    "        return trj"
   ]
  },
  {
   "cell_type": "markdown",
   "metadata": {},
   "source": [
    "Now that you've implemented `read_trajectory` call this function once for the ground-truth pose on topic `/ground_truth/pose` and for the estimated vehicle pose on topic `/localization/predicted_pose`. Store the resulting trajectory into two specific variables.\n",
    "##### __Hints__:\n",
    "- The path to the bag file is stored in the variable `bag_path`."
   ]
  },
  {
   "cell_type": "code",
   "execution_count": 43,
   "metadata": {},
   "outputs": [],
   "source": [
    "### START CODE HERE ###\n",
    "\n",
    "\n",
    "### Solution:\n",
    "gt_trj=read_trajectory(bag_path, '/ground_truth/pose')\n",
    "est_trj=read_trajectory(bag_path, '/localization/predicted_pose')\n",
    "### END CODE HERE ###"
   ]
  },
  {
   "cell_type": "markdown",
   "metadata": {},
   "source": [
    "## Task: Creating a pandas data frame from both trajectories\n",
    "\n",
    "Now that we've succesfully imported the trajectory-data, we will convert these into a [pandas data frame](https://pandas.pydata.org/docs/reference/api/pandas.DataFrame.html).\n",
    "\n",
    "At first we will create two data frames: one for the ground-truth trajectory and one for the estimated trajectory. Each data frame contains four colums `t`, `x`, `y` and `psi`. In this case we use list comprehension to store all these trajectory-variables into the data frame.\n",
    "\n",
    "Your task is to replace all `None` placeholders within the code-cell below.\n",
    "##### __Hints__:\n",
    "- The `None` placeholders refer to the specific trajectory we would like to derive the information from."
   ]
  },
  {
   "cell_type": "code",
   "execution_count": 42,
   "metadata": {},
   "outputs": [],
   "source": [
    "### START CODE HERE ###\n",
    "# Ground-Truth-Trajectory-Data-Frame\n",
    "#df_gt = pd.DataFrame({'t': [point.t for point in None], 'x': [point.x for point in None], 'y': [point.y for point in None], 'psi': [point.psi for point in None]})\n",
    "# Estimated-Trajectory-Data-Frame\n",
    "#df_est = pd.DataFrame({'t': [point.t for point in None], 'x': [point.x for point in None], 'y': [point.y for point in None], 'psi': [point.psi for point in None]})\n",
    "### Solution:\n",
    "# Ground-Truth-Trajectory-Data-Frame\n",
    "df_gt = pd.DataFrame({'t': [point.t for point in gt_trj], 'x': [point.x for point in gt_trj], 'y': [point.y for point in gt_trj], 'psi': [point.psi for point in gt_trj]})\n",
    "# Estimated-Trajectory-Data-Frame\n",
    "df_est = pd.DataFrame({'t': [point.t for point in est_trj], 'x': [point.x for point in est_trj], 'y': [point.y for point in est_trj], 'psi': [point.psi for point in est_trj]})\n",
    "### END CODE HERE ###"
   ]
  },
  {
   "cell_type": "markdown",
   "metadata": {},
   "source": [
    "Now we have two data-frames, but to compare the trajectories we need an order of individual ground-truth and estimated poses from both data-frames. Therefore we want to combine the two data-frames into one. The goal is to assign a corresponding ground-truth pose to each estimated pose. Since the ground truth trajectory was published with a higher frequency (20Hz) compared to the estimated trajectory (10Hz), the temporal error should be maximal half the period of the publication frequency of the ground truth pose.\n",
    "\n",
    "To merge both data-frames we will use the function `mege_asof` from pandas. This function allows to merge two data frames based on a distance metric of a defined field. In this case we use the time difference between the poses as metric. Your task is to choose the `tolerance` for matching two poses. Replace the `None` placeholder in the code cell below.\n",
    "##### __Hints__:\n",
    "- The ground truth pose is published with a frequency of 20 Hz. The period between two messages is therefore 0.05 seconds."
   ]
  },
  {
   "cell_type": "code",
   "execution_count": 41,
   "metadata": {},
   "outputs": [],
   "source": [
    "### START CODE HERE ###\n",
    "df = pd.merge_asof(df_est, df_gt, on='t', tolerance=None, direction='nearest', suffixes=['_estimate', '_ground_truth'])\n",
    "### Solution:\n",
    "df = pd.merge_asof(df_est, df_gt, on='t', tolerance=0.025, direction='nearest', suffixes=['_estimate', '_ground_truth'])\n",
    "### END CODE HERE ###"
   ]
  },
  {
   "cell_type": "markdown",
   "metadata": {},
   "source": [
    "## Subjective evaluation of trajectories\n",
    "\n",
    "A naive way to evaluate two trajectories is to visualize them in a 2D plot and compare them subjectively. Execute the code cell below to generate a plot."
   ]
  },
  {
   "cell_type": "code",
   "execution_count": 96,
   "metadata": {},
   "outputs": [],
   "source": [
    "# Create an overview plot that visualizes both trajectories\n",
    "fig, ax = plt.subplots(1,1,figsize=(20, 8))\n",
    "# Plot ground-truth trajectory\n",
    "df.plot(x='x_ground_truth', y='y_ground_truth', ax=ax)\n",
    "# Plot estimated trajectory\n",
    "df.plot(x='x_estimate', y='y_estimate', ax=ax)\n",
    "# Set equal axes\n",
    "ax.axis('equal')\n",
    "# Hide axis labels\n",
    "ax.set_xlabel('')\n",
    "ax.set_ylabel('')\n",
    "# Set legend labels\n",
    "ax.legend(['Ground Truth Trajectory', 'Estimated Trajectory'])\n",
    "# Create a second plot with detailed views\n",
    "fig, ax = plt.subplots(1,3,figsize=(20, 8))\n",
    "# Plot trajectories on specific subplots\n",
    "df.plot(x='x_ground_truth', y='y_ground_truth', ax=ax[0], marker='.', linestyle='none', legend=None)\n",
    "df.plot(x='x_estimate', y='y_estimate', ax=ax[0], marker='.', linestyle='none', legend=None)\n",
    "df.plot(x='x_ground_truth', y='y_ground_truth', ax=ax[1], marker='.', linestyle='none', legend=None)\n",
    "df.plot(x='x_estimate', y='y_estimate', ax=ax[1], marker='.', linestyle='none', legend=None)\n",
    "df.plot(x='x_ground_truth', y='y_ground_truth', ax=ax[2], marker='.', linestyle='none', legend=None)\n",
    "df.plot(x='x_estimate', y='y_estimate', ax=ax[2], marker='.', linestyle='none', legend=None)\n",
    "# Set axes limits for detail views\n",
    "ax[0].set_xlim(2370, 2410)\n",
    "ax[0].set_ylim(470, 510)\n",
    "ax[1].set_xlim(2370, 2410)\n",
    "ax[1].set_ylim(620, 660)\n",
    "ax[2].set_xlim(2500, 2520)\n",
    "ax[2].set_ylim(640, 660)\n",
    "# Hide axis labels\n",
    "for axis in ax:\n",
    "    axis.set_xlabel('')\n",
    "    axis.set_ylabel('') \n",
    "plt.show()"
   ]
  },
  {
   "cell_type": "markdown",
   "metadata": {},
   "source": []
  },
  {
   "cell_type": "code",
   "execution_count": 105,
   "metadata": {
    "tags": []
   },
   "outputs": [
    {
     "data": {
      "image/png": "[encoded data removed]",
      "text/plain": [
       "<Figure size 1440x288 with 1 Axes>"
      ]
     },
     "metadata": {
      "needs_background": "light"
     },
     "output_type": "display_data"
    }
   ],
   "source": [
    "fig, ax = plt.subplots(1,1,figsize=(20, 4))\n",
    "ax.set_xlim(310, 360)\n",
    "ax.set_ylim(-200, 200)\n",
    "df.plot(x='t', y='psi_ground_truth', ax=ax)\n",
    "df.plot(x='t', y='psi_estimate', ax=ax)\n",
    "ax.legend(['Ground Truth Trajectory', 'Estimated Trajectory'])\n",
    "plt.show()"
   ]
  },
  {
   "cell_type": "code",
   "execution_count": 108,
   "metadata": {},
   "outputs": [],
   "source": [
    "df['dx'] = df['x_ground_truth'] - df['x_estimate']\n",
    "df['dy'] = df['y_ground_truth'] - df['y_estimate']\n",
    "df['dpsi'] = df['psi_ground_truth'] - df['psi_estimate']"
   ]
  },
  {
   "cell_type": "code",
   "execution_count": null,
   "metadata": {},
   "outputs": [],
   "source": [
    "fig, ax = plt.subplots(1,2,figsize=(20, 4))\n",
    "ax[0].set_ylim(-1, 1)\n",
    "ax[1].set_ylim(-1, 1)\n",
    "df.plot(x='t', y='dx', ax=ax[0])\n",
    "df.plot(x='t', y='dy', ax=ax[1])\n",
    "plt.show()"
   ]
  },
  {
   "cell_type": "code",
   "execution_count": null,
   "metadata": {},
   "outputs": [],
   "source": [
    "fig, ax = plt.subplots(1,1,figsize=(20, 4))\n",
    "ax.set_ylim(-15, 15)\n",
    "df.plot(x='t', y='dpsi', ax=ax)\n",
    "plt.show()"
   ]
  },
  {
   "cell_type": "code",
   "execution_count": null,
   "metadata": {},
   "outputs": [],
   "source": []
  },
  {
   "cell_type": "code",
   "execution_count": 111,
   "metadata": {},
   "outputs": [
    {
     "data": {
      "image/png": "[encoded data removed]",
      "text/plain": [
       "<Figure size 1440x576 with 2 Axes>"
      ]
     },
     "metadata": {
      "needs_background": "light"
     },
     "output_type": "display_data"
    }
   ],
   "source": [
    "colormap = plt.get_cmap('viridis')\n",
    "normalize = Normalize(vmin=0.0, vmax=5.0)\n",
    "scalar_mappable = ScalarMappable(cmap=colormap, norm=normalize)\n",
    "colors = scalar_mappable.to_rgba(np.abs(df['dpsi']))\n",
    "fig, ax = plt.subplots(1,1,figsize=(20, 8))\n",
    "ax.axis('equal')\n",
    "plt.scatter(df['x_ground_truth'], df['y_ground_truth'], c=colors, marker='.')\n",
    "colorbar = plt.colorbar(scalar_mappable)\n",
    "colorbar.set_label('dpsi')\n",
    "plt.show()"
   ]
  },
  {
   "cell_type": "code",
   "execution_count": null,
   "metadata": {},
   "outputs": [],
   "source": [
    "fig, ax = plt.subplots(1,2,figsize=(20, 4))\n",
    "ax[0].set_ylim(-1, 1)\n",
    "ax[1].set_ylim(-1, 1)\n",
    "combined_df.plot(x='t', y='dlon', ax=ax[0])\n",
    "combined_df.plot(x='t', y='dlat', ax=ax[1])\n",
    "plt.show()"
   ]
  },
  {
   "cell_type": "code",
   "execution_count": null,
   "metadata": {},
   "outputs": [],
   "source": [
    "fig, ax = plt.subplots(1,2,figsize=(20, 4))\n",
    "combined_df.boxplot(column='dlon', ax=ax[0])\n",
    "combined_df.boxplot(column='dlat', ax=ax[1])\n",
    "plt.show()"
   ]
  },
  {
   "cell_type": "code",
   "execution_count": null,
   "metadata": {},
   "outputs": [],
   "source": [
    "\n",
    "colormap = plt.get_cmap('viridis')\n",
    "normalize = Normalize(vmin=0.0, vmax=5.0)\n",
    "scalar_mappable = ScalarMappable(cmap=colormap, norm=normalize)\n",
    "colors = scalar_mappable.to_rgba(np.abs(combined_df['dpsi']))\n",
    "fig, ax = plt.subplots(1,1,figsize=(20, 8))\n",
    "ax.axis('equal')\n",
    "plt.scatter(combined_df['x_ground_truth'], combined_df['y_ground_truth'], c=colors)\n",
    "colorbar = plt.colorbar(scalar_mappable)\n",
    "colorbar.set_label('dpsi')\n",
    "plt.show()"
   ]
  },
  {
   "cell_type": "markdown",
   "metadata": {},
   "source": [
    "## Wrap Up\n",
    "\n",
    "- You learned how to apply...\n",
    "- You learned how to apply...\n",
    "- You learned how to...\n",
    "- You learned how to..."
   ]
  },
  {
   "cell_type": "markdown",
   "metadata": {},
   "source": [
    "## License\n",
    "\n",
    "\n",
    "MIT License\n",
    "\n",
    "Copyright 2023 Institute for Automotive Engineering of RWTH Aachen University."
   ]
  },
  {
   "cell_type": "code",
   "execution_count": null,
   "metadata": {},
   "outputs": [],
   "source": []
  }
 ],
 "metadata": {
  "kernelspec": {
   "display_name": "Python 3 (ipykernel)",
   "language": "python",
   "name": "python3"
  },
  "language_info": {
   "codemirror_mode": {
    "name": "ipython",
    "version": 3
   },
   "file_extension": ".py",
   "mimetype": "text/x-python",
   "name": "python",
   "nbconvert_exporter": "python",
   "pygments_lexer": "ipython3",
   "version": "3.9.6"
  }
 },
 "nbformat": 4,
 "nbformat_minor": 4
}
