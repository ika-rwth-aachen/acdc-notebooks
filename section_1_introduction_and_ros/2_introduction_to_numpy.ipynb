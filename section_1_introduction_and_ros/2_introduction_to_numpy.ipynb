{
 "cells": [
  {
   "cell_type": "markdown",
   "metadata": {},
   "source": [
    "![](../assets/header_image.png)"
   ]
  },
  {
   "cell_type": "markdown",
   "metadata": {},
   "source": [
    "# Optional Assignment: Python, NumPy and Vectorization\n",
    "This assignment gives you a brief introduction to some of the scientific computing used in this course. We will use the popular NumPy library that is used for many scientific computing applications.\n",
    "\n",
    "\n",
    "In this optional assignment, you will learn about NumPy and more Python skills that are recommended to know for the upcoming assigments. This notebook is recommended to students who do not have any expierence in NumPy. You will learn about\n",
    "\n",
    "- Vectors\n",
    "- Matrices\n",
    "- Operations on Matrices\n",
    "- Operations on Vectors\n",
    "- Indexing\n",
    "- Accessing Elements\n",
    "\n",
    "Let's start by importing numpy. Execute the cell below"
   ]
  },
  {
   "cell_type": "code",
   "execution_count": 21,
   "metadata": {},
   "outputs": [],
   "source": [
    "import numpy as np\n",
    "import time"
   ]
  },
  {
   "cell_type": "markdown",
   "metadata": {},
   "source": [
    "You can see that we imported Numpy as `np`. This is the abbreviation for `numpy` and we can now access all numpy functions with `np`:"
   ]
  },
  {
   "cell_type": "code",
   "execution_count": 22,
   "metadata": {},
   "outputs": [
    {
     "data": {
      "text/plain": [
       "6"
      ]
     },
     "execution_count": 22,
     "metadata": {},
     "output_type": "execute_result"
    }
   ],
   "source": [
    "np.sum([1, 2, 3])"
   ]
  },
  {
   "cell_type": "markdown",
   "metadata": {},
   "source": [
    "## References\n",
    "We can provide here only a limited introduction to NumPy, because this library is quite huge and has many features. Check out the links below if you want to learn more about this library:\n",
    "- NumPy Documentation: [NumPy.org](https://NumPy.org/doc/stable/)"
   ]
  },
  {
   "cell_type": "markdown",
   "metadata": {},
   "source": [
    "## Python and NumPy\n",
    "Python is one of the the programming languages that we will use in this MOOC. It has become very popular among data scientists and machine learning engineers, because it supports many different libraries and tools such as Jupter Notebooks. Furthermore, the syntax is quite easy to understand, but supports full object oriented programming, aswell as basic mathematical operations. NumPy is a Python library which gives Python the fundamental power for scientific computing. It adds a support for more numeric data types, vectors, matrices and matrix operations. Additionally, the core of NumPy is based on a well-optimized C code which enables, fast and efficient computations."
   ]
  },
  {
   "cell_type": "markdown",
   "metadata": {},
   "source": [
    "### Vectors, Matrices and Tensors\n",
    "Before we are getting into details lets start by recapping the names for basic mathematical objects.\n",
    "\n",
    "- **Vector** is an array with a single dimension (there’s no difference between row and column vectors)\n",
    "- **Matrix** refers to an array with two dimensions\n",
    "- **Tensor** for 3-D or higher dimensional arrays, the term *tensor* is also commonly used"
   ]
  },
  {
   "cell_type": "markdown",
   "metadata": {},
   "source": [
    "# Vectors\n",
    "A vector $x$ is an ordered array of numbers, where all elements have the same data type. The \"length\" of a vector is usually denoted by mathematicians as a *rank* and corresponds to $\\text{rank}(x) = n$ for the example below. Using Python and NumPy we often denote the length along a *dimension*. Each element in the array can be accessed with an index. In linear algebra, the elements of a vector are often indexed from $1$ to $n$, where $i=1$ denotes the first element $x_1$ and $n$ the last element $x_n$. In programming languages however, one usually start counting from 0. Hence, the $0^{th}$ element $x_0$ is the first element in the array and $x_{n-1}$ is the last element.\n",
    " \n",
    "NumPy and Python and also other programming languages:\n",
    "$$\n",
    "x =\n",
    "\\begin{pmatrix} \n",
    "x_{0}  \\\\\n",
    "x_{1}  \\\\\n",
    "...        \\\\\n",
    "x_{n-1} \\\\\n",
    "\\end{pmatrix}\n",
    "$$\n",
    "\n",
    "\n",
    "Typical mathematical notation:\n",
    "\n",
    "$$\n",
    "x =\n",
    "\\begin{pmatrix} \n",
    "x_{1}  \\\\\n",
    "x_{2}  \\\\\n",
    "...        \\\\\n",
    "x_{n} \\\\\n",
    "\\end{pmatrix}\n",
    "$$"
   ]
  },
  {
   "cell_type": "markdown",
   "metadata": {},
   "source": [
    "## NumPy Arrays\n",
    "\n",
    "NumPy's basic data structure is an indexable, n-dimensional *array* containing elements of the same type (`dtype`). Right away, you may notice we have overloaded the term 'dimension'. Above, it was the number of elements in the vector, here, dimension refers to the number of indexes of an array. A one-dimensional or 1-D array has one index.\n",
    "\n",
    " - 1-D array, shape (n,): n elements indexed [0] through [n-1]\n",
    " "
   ]
  },
  {
   "cell_type": "markdown",
   "metadata": {},
   "source": [
    "## Vector Creation\n"
   ]
  },
  {
   "cell_type": "markdown",
   "metadata": {},
   "source": [
    "Data creation functions in NumPy will generally have a first parameter which is the shape of the object. This can either be a single value for a 1-D result or a tuple (n,m,...) specifying the shape of the result. Below are examples of creating vectors using these functions."
   ]
  },
  {
   "cell_type": "code",
   "execution_count": 101,
   "metadata": {},
   "outputs": [
    {
     "name": "stdout",
     "output_type": "stream",
     "text": [
      "a = np.zeros(4)\n",
      "a = [0. 0. 0. 0.]\n",
      "a shape = (4,)\n",
      "a data type = float64\n",
      "\n",
      "\n",
      "a = np.zeros((4,))\n",
      "a = [0. 0. 0. 0.]\n",
      "a shape = (4,)\n",
      "a data type = float64\n",
      "\n",
      "\n",
      "a = np.ones((4, 4))\n",
      "a = \n",
      "[[1. 1. 1. 1.]\n",
      " [1. 1. 1. 1.]\n",
      " [1. 1. 1. 1.]\n",
      " [1. 1. 1. 1.]]\n",
      "a shape = (4, 4)\n",
      "a data type = float64\n",
      "\n",
      "\n",
      "a = np.random.random_sample(4)\n",
      "a = [0.66123976 0.30659156 0.3543123  0.07109989]\n",
      "a shape = (4,)\n",
      "a data type = float64\n",
      "\n",
      "\n",
      "a = np.random.rand(4): \n",
      "a = [0.41111495 0.45754396 0.07473088 0.9940063 ], \n",
      "a shape = (4,), \n",
      "a data type = float64\n"
     ]
    }
   ],
   "source": [
    "a = np.zeros(4)\n",
    "print(f\"a = np.zeros(4)\\na = {a}\\na shape = {a.shape}\\na data type = {a.dtype}\")\n",
    "print(\"\\n\")\n",
    "\n",
    "a = np.zeros((4,))\n",
    "print(f\"a = np.zeros((4,))\\na = {a}\\na shape = {a.shape}\\na data type = {a.dtype}\")\n",
    "print(\"\\n\")\n",
    "\n",
    "a = np.ones((4, 4))\n",
    "print(f\"a = np.ones((4, 4))\\na = \\n{a}\\na shape = {a.shape}\\na data type = {a.dtype}\")\n",
    "print(\"\\n\")\n",
    "\n",
    "a = np.random.random_sample(4)\n",
    "print(f\"a = np.random.random_sample(4)\\na = {a}\\na shape = {a.shape}\\na data type = {a.dtype}\")\n",
    "print(\"\\n\")\n",
    "\n",
    "a = np.random.rand(4)\n",
    "print(f\"a = np.random.rand(4): \\na = {a}, \\na shape = {a.shape}, \\na data type = {a.dtype}\")"
   ]
  },
  {
   "cell_type": "markdown",
   "metadata": {},
   "source": [
    "### We can also create sequences:"
   ]
  },
  {
   "cell_type": "code",
   "execution_count": 24,
   "metadata": {},
   "outputs": [
    {
     "name": "stdout",
     "output_type": "stream",
     "text": [
      "a = np.arange(4.):     \n",
      "a = [0. 1. 2. 3.], \n",
      "a shape = (4,), \n",
      "a data type = float64\n"
     ]
    }
   ],
   "source": [
    "a = np.arange(4.)\n",
    "print(f\"a = np.arange(4.):     \\na = {a}, \\na shape = {a.shape}, \\na data type = {a.dtype}\")"
   ]
  },
  {
   "cell_type": "markdown",
   "metadata": {},
   "source": [
    "### We can also instert custom values:"
   ]
  },
  {
   "cell_type": "code",
   "execution_count": 25,
   "metadata": {},
   "outputs": [
    {
     "name": "stdout",
     "output_type": "stream",
     "text": [
      "a = np.array([5,4,3,2]):  \n",
      "a = [5 4 3 2],     \n",
      "a shape = (4,), \n",
      "a data type = int64\n",
      "\n",
      "\n",
      "a = np.array([5.,4,3,2]):\n",
      "a = [5. 4. 3. 2.], \n",
      "a shape = (4,), \n",
      "a data type = float64\n"
     ]
    }
   ],
   "source": [
    "a = np.array([5,4,3,2])\n",
    "print(f\"a = np.array([5,4,3,2]):  \\na = {a},     \\na shape = {a.shape}, \\na data type = {a.dtype}\")\n",
    "print(\"\\n\")\n",
    "\n",
    "a = np.array([5.,4,3,2])\n",
    "print(f\"a = np.array([5.,4,3,2]):\\na = {a}, \\na shape = {a.shape}, \\na data type = {a.dtype}\")"
   ]
  },
  {
   "cell_type": "markdown",
   "metadata": {},
   "source": [
    "These have all created a one-dimensional vector  `a` with four elements. `a.shape` returns the dimensions. Here we see a.shape = `(4,)` indicating a 1-d array with 4 elements.  "
   ]
  },
  {
   "cell_type": "markdown",
   "metadata": {},
   "source": [
    "## Operations on Vectors\n",
    "\n",
    "### Vector Indexing\n",
    "Elements of vectors can be accessed via indexing and slicing. NumPy provides a very complete set of indexing and slicing capabilities. We can cover only a small part of the syntax in this tutorial. If you want to get an in-depth knowledge please read the official documentation about [Slicing and Indexing](https://NumPy.org/doc/stable/reference/arrays.indexing.html). Now, we want to clarify the difference between *indexing* and *slicing*\n",
    "\n",
    "* **Indexing** means referring to *an element* of an array by its position within the array.  \n",
    "* **Slicing** means getting a *subset* of elements from an array based on their indices.\n",
    "\n",
    "NumPy starts indexing at zero so the 3rd element of an vector $a$ is `a[2]`."
   ]
  },
  {
   "cell_type": "code",
   "execution_count": 26,
   "metadata": {},
   "outputs": [
    {
     "name": "stdout",
     "output_type": "stream",
     "text": [
      "[0 1 2 3 4 5 6 7 8 9]\n",
      "a[2].shape: () a[2]  = 2, Accessing an element returns a scalar\n",
      "a[-1] = 9\n",
      "The error message you'll see is:\n",
      "index 10 is out of bounds for axis 0 with size 10\n"
     ]
    }
   ],
   "source": [
    "#vector indexing operations on 1-D vectors\n",
    "a = np.arange(10)\n",
    "print(a)\n",
    "\n",
    "#access an element\n",
    "print(f\"a[2].shape: {a[2].shape} a[2]  = {a[2]}, Accessing an element returns a scalar\")\n",
    "\n",
    "# access the last element, negative indexes count from the end\n",
    "print(f\"a[-1] = {a[-1]}\")\n",
    "\n",
    "#indexs must be within the range of the vector or they will produce and error\n",
    "try:\n",
    "    c = a[10]\n",
    "except Exception as e:\n",
    "    print(\"The error message you'll see is:\")\n",
    "    print(e)"
   ]
  },
  {
   "cell_type": "markdown",
   "metadata": {},
   "source": [
    "### Vector Slicing\n",
    "Slicing creates an array of indices using a set of three values (`start:stop:step`). A subset of values is also valid. Its use is best explained by example:"
   ]
  },
  {
   "cell_type": "code",
   "execution_count": 27,
   "metadata": {},
   "outputs": [
    {
     "name": "stdout",
     "output_type": "stream",
     "text": [
      "a        =  [0 1 2 3 4 5 6 7 8 9]\n",
      "a[2:7:1] =  [2 3 4 5 6]\n",
      "a[2:7:2] =  [2 4 6]\n",
      "a[3:]    =  [3 4 5 6 7 8 9]\n",
      "a[:3]    =  [0 1 2]\n",
      "a[:]     =  [0 1 2 3 4 5 6 7 8 9]\n"
     ]
    }
   ],
   "source": [
    "a = np.arange(10)\n",
    "print(f\"a        =  {a}\")\n",
    "\n",
    "#access 5 consecutive elements (start:stop:step)\n",
    "c = a[2:7:1];     print(\"a[2:7:1] = \", c)\n",
    "\n",
    "# access 3 elements separated by two \n",
    "c = a[2:7:2];     print(\"a[2:7:2] = \", c)\n",
    "\n",
    "# access all elements index 3 and above\n",
    "c = a[3:];        print(\"a[3:]    = \", c)\n",
    "\n",
    "# access all elements below index 3\n",
    "c = a[:3];        print(\"a[:3]    = \", c)\n",
    "\n",
    "# access all elements\n",
    "c = a[:];         print(\"a[:]     = \", c)"
   ]
  },
  {
   "cell_type": "markdown",
   "metadata": {},
   "source": [
    "<a name=\"toc_40015_3.4.3\"></a>\n",
    "### 3.4.3 Single vector operations\n",
    "There are a number of useful operations that involve operations on a single vector."
   ]
  },
  {
   "cell_type": "code",
   "execution_count": 28,
   "metadata": {},
   "outputs": [
    {
     "name": "stdout",
     "output_type": "stream",
     "text": [
      "a             : [1 2 3 4]\n",
      "b = -a        : [-1 -2 -3 -4]\n",
      "b = np.sum(a) : 10\n",
      "b = np.mean(a): 2.5\n",
      "b = a**2      : [ 1  4  9 16]\n"
     ]
    }
   ],
   "source": [
    "a = np.array([1,2,3,4])\n",
    "print(f\"a             : {a}\")\n",
    "\n",
    "# negate elements of a\n",
    "b = -a \n",
    "print(f\"b = -a        : {b}\")\n",
    "\n",
    "# sum all elements of a, returns a scalar\n",
    "b = np.sum(a) \n",
    "print(f\"b = np.sum(a) : {b}\")\n",
    "\n",
    "b = np.mean(a)\n",
    "print(f\"b = np.mean(a): {b}\")\n",
    "\n",
    "b = a**2\n",
    "print(f\"b = a**2      : {b}\")"
   ]
  },
  {
   "cell_type": "markdown",
   "metadata": {},
   "source": [
    "<a name=\"toc_40015_3.4.4\"></a>\n",
    "### 3.4.4 Vector Vector element-wise operations\n",
    "Most of the NumPy arithmetic, logical and comparison operations apply to vectors as well. These operators work on an element-by-element basis. For example \n",
    "$$ c_i = a_i + b_i $$"
   ]
  },
  {
   "cell_type": "code",
   "execution_count": 30,
   "metadata": {},
   "outputs": [
    {
     "name": "stdout",
     "output_type": "stream",
     "text": [
      "Binary operators work element wise: [2 4 0 0]\n"
     ]
    }
   ],
   "source": [
    "a = np.array([ 1, 2, 3, 4])\n",
    "b = np.array([-1,-2, 3, 4])\n",
    "print(f\"Binary operators work element wise: {a - b}\")"
   ]
  },
  {
   "cell_type": "markdown",
   "metadata": {},
   "source": [
    "Of course, for this to work correctly, the vectors must be of the same size:"
   ]
  },
  {
   "cell_type": "code",
   "execution_count": 32,
   "metadata": {
    "tags": []
   },
   "outputs": [
    {
     "name": "stdout",
     "output_type": "stream",
     "text": [
      "The error message you'll see is:\n",
      "operands could not be broadcast together with shapes (4,) (2,) \n"
     ]
    }
   ],
   "source": [
    "#try a mismatched vector operation\n",
    "c = np.array([1, 2])\n",
    "try:\n",
    "    d = a + c\n",
    "except Exception as e:\n",
    "    print(\"The error message you'll see is:\")\n",
    "    print(e)"
   ]
  },
  {
   "cell_type": "markdown",
   "metadata": {},
   "source": [
    "<a name=\"toc_40015_3.4.5\"></a>\n",
    "### 3.4.5 Scalar Vector operations\n",
    "Vectors can be 'scaled' by scalar values. A scalar value is just a number. The scalar multiplies all the elements of the vector."
   ]
  },
  {
   "cell_type": "code",
   "execution_count": 34,
   "metadata": {},
   "outputs": [
    {
     "name": "stdout",
     "output_type": "stream",
     "text": [
      "b = 5 * a : [ 5 10 15 20]\n"
     ]
    }
   ],
   "source": [
    "a = np.array([1, 2, 3, 4])\n",
    "\n",
    "# multiply a by a scalar\n",
    "b = 5 * a \n",
    "print(f\"b = 5 * a : {b}\")"
   ]
  },
  {
   "cell_type": "markdown",
   "metadata": {},
   "source": [
    "### Vectorization: Vector Vector dot product\n",
    "We want to test the effectiveness of vectorization by implementing a vector dot product between two arrays $a$ and $b$:\n",
    "\n",
    "$$\n",
    "a \\cdot b = \\sum^{n-1}_{i=0} a_i b_i\n",
    "$$\n",
    "\n",
    "We will implement the function in two ways:\n",
    "\n",
    "* **Explicit Loop**: Iterate over all elements of the vectors and use indexing to retrieve the elements, then perform multiplication and addition.\n",
    "* **NumPy**: Use numpy's build-in functions `np.dot`\n",
    "\n",
    "Vector dot product requires the dimensions of the two vectors to be the same. "
   ]
  },
  {
   "cell_type": "markdown",
   "metadata": {},
   "source": [
    "Let's implement our own version of the dot product below:\n",
    "\n",
    "**Using a for loop**, implement a function which returns the dot product of two vectors. The function to return given inputs $a$ and $b$:\n",
    "$$ x = \\sum_{i=0}^{n-1} a_i b_i $$\n",
    "Assume both `a` and `b` are the same shape."
   ]
  },
  {
   "cell_type": "code",
   "execution_count": 37,
   "metadata": {},
   "outputs": [],
   "source": [
    "def dot_vectorized(a, b):\n",
    "    \"\"\"\n",
    "    Compute the dot product of two vectors\n",
    "    Arguments:\n",
    "        a: numpy nd array with length n\n",
    "        b: numpy nd array with length n\n",
    "    Returns:\n",
    "        x: dot product of a and b as scalar\n",
    "    \"\"\"\n",
    "    return np.sum(a*b)"
   ]
  },
  {
   "cell_type": "code",
   "execution_count": 36,
   "metadata": {},
   "outputs": [],
   "source": [
    "def dot_loop(a, b): \n",
    "    \"\"\"\n",
    "    Compute the dot product of two vectors\n",
    "    Arguments:\n",
    "        a: numpy nd array with length n\n",
    "        b: numpy nd array with length n\n",
    "    Returns:\n",
    "        x: dot product of a and b as scalar\n",
    "    \"\"\"\n",
    "    x = 0\n",
    "    for i in range(a.shape[0]):\n",
    "        x = x + a[i] * b[i]\n",
    "    return x"
   ]
  },
  {
   "cell_type": "markdown",
   "metadata": {},
   "source": [
    "You can see that the implementation in `dot_loop()` matches the results of `dot_vectorized()` and `np.dot()`"
   ]
  },
  {
   "cell_type": "code",
   "execution_count": 38,
   "metadata": {},
   "outputs": [
    {
     "name": "stdout",
     "output_type": "stream",
     "text": [
      "Function: dot_loop(a, b) \t = 38\n",
      "Function: dot_vectorized(a, b) \t = 38\n",
      "NumPy Build-In: np.dot(a, b) \t = 38\n"
     ]
    }
   ],
   "source": [
    "a = np.array([5, 3, 2, 1])\n",
    "b = np.array([-1, 9, 7, 2])\n",
    "print(f\"Function: dot_loop(a, b) \\t = {dot_loop(a, b)}\")\n",
    "\n",
    "# Function dot_vectorized\n",
    "c = dot_vectorized(a, b)\n",
    "print(f\"Function: dot_vectorized(a, b) \\t = {dot_loop(a, b)}\")\n",
    "\n",
    "# Build in numpy's dot function\n",
    "c = np.dot(a, b)\n",
    "print(f\"NumPy Build-In: np.dot(a, b) \\t = {c}\") "
   ]
  },
  {
   "cell_type": "code",
   "execution_count": null,
   "metadata": {},
   "outputs": [],
   "source": [
    "dd\n",
    "\n"
   ]
  },
  {
   "cell_type": "markdown",
   "metadata": {},
   "source": [
    "Now, let's measure the **time** that each function needs to compute for two very large vectors."
   ]
  },
  {
   "cell_type": "markdown",
   "metadata": {},
   "source": [
    "<a name=\"toc_40015_3.4.7\"></a>\n",
    "### 3.4.7 The Need for Speed: vector vs for loop\n",
    "We utilized the NumPy  library because it improves speed memory efficiency. Let's demonstrate:"
   ]
  },
  {
   "cell_type": "code",
   "execution_count": 53,
   "metadata": {},
   "outputs": [
    {
     "name": "stdout",
     "output_type": "stream",
     "text": [
      "np.dot(a, b) =\t\t\t 2499424.8578\n",
      "Build-In Function: \t\t 5.1975 ms \n",
      "\n",
      "\n",
      "dot_vectorized(a, b) =\t\t 2499424.8578\n",
      "Function dot_vectorized(a, b): \t 18.0113 ms \n",
      "\n",
      "\n",
      "dot_loop(a, b) =\t\t 2499424.8578\n",
      "Function dot_loop(a, b): \t 1740.0916 ms \n"
     ]
    }
   ],
   "source": [
    "np.random.seed(1337)\n",
    "a = np.random.rand(10000000) \n",
    "b = np.random.rand(10000000)\n",
    "\n",
    "\n",
    "tic = time.time()  # capture start time\n",
    "c = np.dot(a, b)\n",
    "toc = time.time()  # capture end time\n",
    "print(f\"np.dot(a, b) =\\t\\t\\t {c:.4f}\")\n",
    "print(f\"Build-In Function: \\t\\t {1000*(toc-tic):.4f} ms \")\n",
    "print(\"\\n\")\n",
    "\n",
    "\n",
    "\n",
    "tic = time.time()  # capture start time\n",
    "c = dot_vectorized(a, b)\n",
    "toc = time.time()  # capture end time\n",
    "print(f\"dot_vectorized(a, b) =\\t\\t {c:.4f}\")\n",
    "print(f\"Function dot_vectorized(a, b): \\t {1000*(toc-tic):.4f} ms \")\n",
    "print(\"\\n\")\n",
    "\n",
    "\n",
    "\n",
    "tic = time.time()  # capture start time\n",
    "c = dot_loop(a,b)\n",
    "toc = time.time()  # capture end time\n",
    "print(f\"dot_loop(a, b) =\\t\\t {c:.4f}\")\n",
    "print(f\"Function dot_loop(a, b): \\t {1000*(toc-tic):.4f} ms \")\n",
    "\n",
    "\n",
    "del(a);del(b)  # remove arrays from memory"
   ]
  },
  {
   "cell_type": "markdown",
   "metadata": {},
   "source": [
    "As you can see, the build-in vectorized implementation gives a much better performance than manual loos. This is because NumPy makes better use of available data parallelism in the underlying hardware. GPU's and modern CPU's implement Single Instruction, Multiple Data (SIMD) pipelines allowing multiple operations to be computed in parallel."
   ]
  },
  {
   "cell_type": "code",
   "execution_count": null,
   "metadata": {},
   "outputs": [],
   "source": [
    "X = np.array([[1],[2],[3],[4]])\n",
    "w = np.array([2])\n",
    "c = np.dot(X[1], w)\n",
    "\n",
    "print(f\"X[1] has shape {X[1].shape}\")\n",
    "print(f\"w has shape {w.shape}\")\n",
    "print(f\"c has shape {c.shape}\")"
   ]
  },
  {
   "cell_type": "markdown",
   "metadata": {},
   "source": [
    "# Matrices\n"
   ]
  },
  {
   "cell_type": "markdown",
   "metadata": {},
   "source": [
    "Matrices, are two dimensional arrays. The elements of a matrix are all of the same type. In notation, matrices are denoted with capitol, bold letter such as $\\mathbf{X}$. In this and other labs, `m` is often the number of rows and `n` the number of columns. The elements of a matrix can be referenced with a two dimensional index. In math settings, numbers in the index typically run from 1 to n. In computer science and these labs, indexing will run from 0 to n-1.  \n",
    "\n",
    "Code:\n",
    "$$\n",
    "X =\n",
    "\\begin{pmatrix} \n",
    "X_{00} & X_{01} & ... & X_{0 (n-1)} \\\\\n",
    "X_{10} & X_{11} & ... & X_{1 (n-1)} \\\\\n",
    "...    & ...    & ... & ...         \\\\\n",
    "X_{(m-1)0} & X_{(m-1)1} & ... & X_{(m-1) (n-1)} \\\\\n",
    "\\end{pmatrix}\n",
    "$$\n",
    "\n",
    "\n",
    "Notation in math class\n",
    "$$\n",
    "X =\n",
    "\\begin{pmatrix} \n",
    "X_{11} & X_{12} & ... & X_{1n} \\\\\n",
    "X_{21} & X_{22} & ... & X_{1n} \\\\\n",
    "...    & ...    & ... & ...    \\\\\n",
    "X_{m1} & X_{m2} & ... & X_{mn} \\\\\n",
    "\\end{pmatrix}\n",
    "$$\n",
    "\n",
    "\n"
   ]
  },
  {
   "cell_type": "markdown",
   "metadata": {},
   "source": [
    "## NumPy Arrays\n",
    "\n",
    "NumPy's basic data structure is an indexable, n-dimensional *array* containing elements of the same type (`dtype`). These were described earlier. Matrices have a two-dimensional (2-D) index [m,n].\n",
    "\n",
    "In Course 1, 2-D matrices are used to hold training data. Training data is $m$ examples by $n$ features creating an (m,n) array. Course 1 does not do operations directly on matrices but typically extracts an example as a vector and operates on that. Below you will review: \n",
    "- data creation\n",
    "- slicing and indexing"
   ]
  },
  {
   "cell_type": "markdown",
   "metadata": {},
   "source": [
    "## Matrix Creation\n",
    "The same functions that created 1-D vectors will create 2-D or n-D arrays. Here are some examples\n"
   ]
  },
  {
   "cell_type": "markdown",
   "metadata": {},
   "source": [
    "Below, the shape tuple is provided to achieve a 2-D result. Notice how NumPy uses brackets to denote each dimension. Notice further than NumPy, when printing, will print one row per line.\n"
   ]
  },
  {
   "cell_type": "code",
   "execution_count": 69,
   "metadata": {},
   "outputs": [
    {
     "name": "stdout",
     "output_type": "stream",
     "text": [
      "a shape = (1, 5)\n",
      "a = [[0. 0. 0. 0. 0.]]\n",
      "\n",
      "a shape = (2, 1)\n",
      "a = \n",
      "[[0.]\n",
      " [0.]]\n",
      "\n",
      "a shape = (1, 1)\n",
      "a = [[0.95152619]]\n"
     ]
    }
   ],
   "source": [
    "a = np.zeros((1, 5))                                       \n",
    "print(f\"a shape = {a.shape}\")\n",
    "print(f\"a = {a}\\n\")                     \n",
    "\n",
    "\n",
    "a = np.zeros((2, 1))                                                                   \n",
    "print(f\"a shape = {a.shape}\")\n",
    "print(f\"a = \\n{a}\\n\") \n",
    "\n",
    "\n",
    "a = np.random.random_sample((1, 1))  \n",
    "print(f\"a shape = {a.shape}\")\n",
    "print(f\"a = {a}\") "
   ]
  },
  {
   "cell_type": "markdown",
   "metadata": {},
   "source": [
    "One can also manually specify data. Dimensions are specified with additional brackets matching the format in the printing above."
   ]
  },
  {
   "cell_type": "code",
   "execution_count": 96,
   "metadata": {},
   "outputs": [
    {
     "name": "stdout",
     "output_type": "stream",
     "text": [
      "a shape = (3, 1)\n",
      "np.array: a = \n",
      "[[5]\n",
      " [4]\n",
      " [3]] \n",
      "\n",
      "a shape = (3, 1)\n",
      "np.array: a = \n",
      "[[5]\n",
      " [4]\n",
      " [3]]\n"
     ]
    }
   ],
   "source": [
    "a = np.array([[5], [4], [3]])\n",
    "print(f\"a shape = {a.shape}\")\n",
    "print(f\"np.array: a = \\n{a} \\n\")\n",
    "\n",
    "\n",
    "# You can also continueon the next line for better readability\n",
    "a = np.array([[5],   \n",
    "              [4],   \n",
    "              [3]])\n",
    "print(f\"a shape = {a.shape}\")\n",
    "print(f\"np.array: a = \\n{a}\")"
   ]
  },
  {
   "cell_type": "markdown",
   "metadata": {},
   "source": [
    "## Operations on Matrices\n",
    "Let's explore some operations using matrices."
   ]
  },
  {
   "cell_type": "markdown",
   "metadata": {},
   "source": [
    "### Indexing\n"
   ]
  },
  {
   "cell_type": "markdown",
   "metadata": {},
   "source": [
    "Matrices include a second index. The two indexes describe [row, column]. Access can either return an element or a row/column. See below:"
   ]
  },
  {
   "cell_type": "code",
   "execution_count": 84,
   "metadata": {},
   "outputs": [
    {
     "name": "stdout",
     "output_type": "stream",
     "text": [
      "a.shape: (3, 2)\n",
      "a= \n",
      "[[0 1]\n",
      " [2 3]\n",
      " [4 5]]\n",
      "\n",
      "Access an element in the matrix:\n",
      "a[2,0].shape: ()\n",
      "a[2,0] = 4\n",
      "type(a[2,0]) = <class 'numpy.int64'>\n",
      "Accessing an element returns a scalar\n",
      "\n",
      "Access a row in the matrix:\n",
      "a[2].shape: (2,)\n",
      "a[2] = [4 5]\n",
      "type(a[2]): = <class 'numpy.ndarray'>\n"
     ]
    }
   ],
   "source": [
    "a = np.arange(6).reshape(-1, 2)   #reshape is a convenient way to create matrices\n",
    "print(f\"a.shape: {a.shape}\")\n",
    "print(f\"a= \\n{a}\\n\")\n",
    "\n",
    "print(\"Access an element in the matrix:\")\n",
    "print(f\"a[2,0].shape: {a[2, 0].shape}\")\n",
    "print(f\"a[2,0] = {a[2, 0]}\")\n",
    "print(f\"type(a[2,0]) = {type(a[2, 0])}\\nAccessing an element returns a scalar\\n\")\n",
    "\n",
    "print(\"Access a row in the matrix:\")\n",
    "print(f\"a[2].shape: {a[2].shape}\")\n",
    "print(f\"a[2] = {a[2]}\")\n",
    "print(f\"type(a[2]): = {type(a[2])}\")"
   ]
  },
  {
   "cell_type": "markdown",
   "metadata": {},
   "source": [
    "It is worth drawing attention to the last example. Accessing a matrix by just specifying the row will return a *1-D vector*."
   ]
  },
  {
   "cell_type": "markdown",
   "metadata": {},
   "source": [
    "**Reshape**  \n",
    "The previous example used [reshape](https://numpy.org/doc/stable/reference/generated/numpy.reshape.html) to shape the array.  \n",
    "`a = np.arange(6).reshape(-1, 2) `   \n",
    "This line of code first created a *1-D Vector* of six elements. It then reshaped that vector into a *2-D* array using the reshape command. This could have been written:  \n",
    "`a = np.arange(6).reshape(3, 2) `  \n",
    "To arrive at the same 3 row, 2 column array.\n",
    "The -1 argument tells the routine to compute the number of rows given the size of the array and the number of columns.\n"
   ]
  },
  {
   "cell_type": "markdown",
   "metadata": {},
   "source": [
    "### Slicing\n",
    "Slicing creates an array of indices using a set of three values (`start:stop:step`). A subset of values is also valid. Its use is best explained by example:"
   ]
  },
  {
   "cell_type": "code",
   "execution_count": 99,
   "metadata": {},
   "outputs": [
    {
     "name": "stdout",
     "output_type": "stream",
     "text": [
      "a = \n",
      "[[ 0  1  2  3  4  5  6  7  8  9]\n",
      " [10 11 12 13 14 15 16 17 18 19]]\n",
      "\n",
      "a[0, 2:7:1] =  [2 3 4 5 6]\n",
      "a[0, 2:7:1].shape = (5,) a 1-D array \n",
      "\n",
      "\n",
      "a[:, 2:7:1] = \n",
      " [[ 2  3  4  5  6]\n",
      " [12 13 14 15 16]]\n",
      "a[:, 2:7:1].shape = (2, 5) a 2-D array \n",
      "\n",
      "a[:,:] = \n",
      " [[ 0  1  2  3  4  5  6  7  8  9]\n",
      " [10 11 12 13 14 15 16 17 18 19]]\n",
      "a[:,:].shape = (2, 10)\n",
      "\n",
      "a[1,:] =  [10 11 12 13 14 15 16 17 18 19]\n",
      "a[1,:].shape = (10,) a 1-D array\n",
      "\n",
      "a[1]   =  [10 11 12 13 14 15 16 17 18 19]\n",
      "a[1].shape   = (10,) a 1-D array\n"
     ]
    }
   ],
   "source": [
    "#vector 2-D slicing operations\n",
    "a = np.arange(20).reshape(-1, 10)\n",
    "print(f\"a = \\n{a}\")\n",
    "\n",
    "#access 5 consecutive elements (start:stop:step)\n",
    "print(\"\\na[0, 2:7:1] = \", a[0, 2:7:1])\n",
    "print(\"a[0, 2:7:1].shape =\", a[0, 2:7:1].shape, \"a 1-D array \\n\")\n",
    "\n",
    "#access 5 consecutive elements (start:stop:step) in two rows\n",
    "print(\"\\na[:, 2:7:1] = \\n\", a[:, 2:7:1])\n",
    "print(\"a[:, 2:7:1].shape =\", a[:, 2:7:1].shape, \"a 2-D array \\n\")\n",
    "\n",
    "# access all elements\n",
    "print(\"a[:,:] = \\n\", a[:,:])\n",
    "print(\"a[:,:].shape =\", a[:,:].shape)\n",
    "\n",
    "# access all elements in one row (very common usage)\n",
    "print(\"\\na[1,:] = \", a[1,:])\n",
    "print(\"a[1,:].shape =\", a[1,:].shape, \"a 1-D array\")\n",
    "\n",
    "# same as\n",
    "print(\"\\na[1]   = \", a[1])\n",
    "print(\"a[1].shape   =\", a[1].shape, \"a 1-D array\")"
   ]
  },
  {
   "cell_type": "markdown",
   "metadata": {},
   "source": [
    "# Task: Mean Squared Error\n",
    "Now, let's practice your skills that you just have learned in this notebook. Implement following mean squared error\n",
    "\n",
    "$$\n",
    "L(\\vec{a}, \\vec{b}) = \\frac{1}{n} \\sum^{n-1}_{i=0} (a_i - b_i)^2\n",
    "$$\n",
    "\n",
    "for two vectors in two ways\n",
    " \n",
    "- Loop Implementation\n",
    "- Vectorized Implementation"
   ]
  },
  {
   "cell_type": "code",
   "execution_count": 48,
   "metadata": {},
   "outputs": [],
   "source": [
    "def mean_squared_error_loop(a, b):\n",
    "    \"\"\"\n",
    "    Loop implementation of a mean squared error between two vectors\n",
    "    Arguments:\n",
    "      a: numpy nd-array with size (n)\n",
    "      b: numpy nd-array with size (n)\n",
    "    Returns:\n",
    "      error: scalar which is the squared error of a and b\n",
    "    \"\"\"\n",
    "    error = 0    \n",
    "    n = len(a)\n",
    "    ### START CODE HERE ###\n",
    "    \n",
    "    for i in range(n):\n",
    "        error += (a[i]-b[i])**2\n",
    "    error /= n\n",
    "    \n",
    "    ### END CODE HERE ###\n",
    "    return error"
   ]
  },
  {
   "cell_type": "code",
   "execution_count": 49,
   "metadata": {},
   "outputs": [
    {
     "data": {
      "text/plain": [
       "1.8469650817618783"
      ]
     },
     "execution_count": 49,
     "metadata": {},
     "output_type": "execute_result"
    }
   ],
   "source": [
    "np.random.seed(1337)\n",
    "a = np.random.randn(1000)\n",
    "b = np.random.randn(1000)\n",
    "mean_squared_error_loop(a, b)"
   ]
  },
  {
   "cell_type": "markdown",
   "metadata": {},
   "source": [
    "### Expected Result\n",
    "1.8469650817618783"
   ]
  },
  {
   "cell_type": "code",
   "execution_count": 50,
   "metadata": {},
   "outputs": [],
   "source": [
    "def mean_squared_error_vectorized(a, b):\n",
    "    \"\"\"\n",
    "    Vectorized implementation of a squared error between two vectors\n",
    "    Arguments:\n",
    "      a: numpy nd-array with size (n)\n",
    "      b: numpy nd-array with size (n)\n",
    "    Returns:\n",
    "      error: scalar which is the squared error of a and b\n",
    "    \"\"\"\n",
    "    error = 0    \n",
    "    ### START CODE HERE ###\n",
    "    \n",
    "    error = (1/len(a)) * np.sum((a-b)**2)\n",
    "    \n",
    "    ### END CODE HERE ###\n",
    "    return error"
   ]
  },
  {
   "cell_type": "code",
   "execution_count": 51,
   "metadata": {},
   "outputs": [
    {
     "data": {
      "text/plain": [
       "1.846965081761879"
      ]
     },
     "execution_count": 51,
     "metadata": {},
     "output_type": "execute_result"
    }
   ],
   "source": [
    "np.random.seed(1337)\n",
    "a = np.random.randn(1000)\n",
    "b = np.random.randn(1000)\n",
    "mean_squared_error_vectorized(a, b)"
   ]
  },
  {
   "cell_type": "markdown",
   "metadata": {},
   "source": [
    "### Expected Result\n",
    "1.846965081761879"
   ]
  },
  {
   "cell_type": "markdown",
   "metadata": {},
   "source": [
    "## Time Comparison"
   ]
  },
  {
   "cell_type": "code",
   "execution_count": 52,
   "metadata": {},
   "outputs": [
    {
     "name": "stdout",
     "output_type": "stream",
     "text": [
      "loop version duration: 1.1654 ms \n",
      "vectorized version duration: 0.0961 ms \n"
     ]
    }
   ],
   "source": [
    "tic = time.time()\n",
    "mean_squared_error_loop(a, b)\n",
    "toc = time.time()\n",
    "print(f\"Loop version duration: {1000*(toc-tic):.4f} ms \")\n",
    "\n",
    "\n",
    "tic = time.time()\n",
    "mean_squared_error_vectorized(a, b)\n",
    "toc = time.time()\n",
    "print(f\"Vectorized version duration: {1000*(toc-tic):.4f} ms \")"
   ]
  },
  {
   "cell_type": "markdown",
   "metadata": {},
   "source": [
    "# Wrap up\n",
    "\n",
    "- You learned how to create Numpy arrays and matrices that are filled with random numbers or zeros\n",
    "- You learned apply basic operations to Numpy arrays\n",
    "- You learned the difference between slicing and indexing\n",
    "- You learned that a vectorized implementation is often much faster than loop-based solutions"
   ]
  },
  {
   "cell_type": "code",
   "execution_count": null,
   "metadata": {},
   "outputs": [],
   "source": []
  }
 ],
 "metadata": {
  "dl_toc_settings": {
   "rndtag": "40015"
  },
  "kernelspec": {
   "display_name": "Python 3 (ipykernel)",
   "language": "python",
   "name": "python3"
  },
  "language_info": {
   "codemirror_mode": {
    "name": "ipython",
    "version": 3
   },
   "file_extension": ".py",
   "mimetype": "text/x-python",
   "name": "python",
   "nbconvert_exporter": "python",
   "pygments_lexer": "ipython3",
   "version": "3.9.6"
  },
  "toc-autonumbering": false
 },
 "nbformat": 4,
 "nbformat_minor": 4
}
