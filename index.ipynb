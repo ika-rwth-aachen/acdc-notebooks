{
 "cells": [
  {
   "cell_type": "markdown",
   "metadata": {
    "jupyter": {
     "outputs_hidden": true
    }
   },
   "source": [
    "![](assets/header_image.png)"
   ]
  },
  {
   "cell_type": "markdown",
   "metadata": {},
   "source": [
    "# Overview of all Notebooks\n",
    "\n",
    "The solution to all notebooks will be made available in the ACDC course on edX.org."
   ]
  },
  {
   "cell_type": "markdown",
   "metadata": {},
   "source": [
    "### Section 1: Introduction and Tools\n",
    "| No.| Topic                                                  | Importance| Exercise  | Solution  |\n",
    "|--- |---                                                     |---        |---        |---        |\n",
    "| 1  | Intoduction to Jupyter Notebooks                       | Optional  | [Exercise](section_1_introduction_and_tools/1_introduction_to_python_and_jupyter_notebooks.ipynb)  | N/A       |\n",
    "| 2  | Introduction to Python, NumPy and Vectorization        | Optional  | [Exercise](section_1_introduction_and_tools/2_introduction_to_numpy.ipynb)  | [Solution](section_1_introduction_and_tools/2_introduction_to_numpy_solution.ipynb)  |\n",
    "| 3  | Jupyros Notebook - ROS Core Principles                 | Optional  | Exercise  | Solution  |\n",
    "| 4  | Jupyros Notebook - ROS Nodes Basics                    | Optional  | Exercise  | Solution  |\n",
    "| 5  | Jupyros Notebook - ROS Messages Basics                 | Optional  | Exercise  | Solution  |\n",
    "| 6  | Jupyros Notebook - ROS Topic Basics                    | Optional  | Exercise  | Solution  |\n",
    "| 7  | Jupyros Notebook - ROS Publisher&Subscriber Principles | Optional  | Exercise  | Solution  |\n",
    "| 8  | Jupyros Notebook - ROS Building a ROS Package Basics   | Optional  | Exercise  | Solution  |\n",
    "| 8  | Jupyros Notebook - ROS Parameter Basics                | Optional  | Exercise  | Solution  |\n",
    "| 10 | Jupyros Notebook - ROS Recording and Playing back data | Optional  | Exercise  | Solution  |\n",
    "\n",
    "\n",
    "### Section 2: Sensor Data Processing\n",
    "\n",
    "| No.| Topic                                  | Importance| Exercise  | Solution  |\n",
    "|--- |---                                     |---        |---        |---        |\n",
    "| 1  | Semantic Image Segmentation            | Required  |[Exercise](section_2_sensor_data_processing/1_semantic_image_segmentation.ipynb)             | [Solution](section_2_sensor_data_processing/1_semantic_image_segmentation_solution.ipynb) |\n",
    "| 2  | Boosting Semantic Image Segmentation   | Required  |[Exercise](section_2_sensor_data_processing/2_augmentation_semantic_image_segmentation.ipynb)| [Solution](section_2_sensor_data_processing/2_augmentation_semantic_image_segmentation_solution.ipynb)  |\n",
    "| 3  | Semantic Point Cloud Segmentation      | Required  |[Exercise](section_2_sensor_data_processing/3_semantic_pcl_segmentation.ipynb)               | [Solution](section_2_sensor_data_processing/3_semantic_pcl_segmentation_solution.ipynb)  |\n",
    "| 4  | Boosting Point Cloud Segmentation      | Required  |[Exercise](section_2_sensor_data_processing/4_semantic_pcl_segmentation_boosting.ipynb)      | [Solution](section_2_sensor_data_processing/4_semantic_pcl_segmentation_boosting_solution.ipynb)  |\n",
    "| 5  | Object Detection                       | Required  |[Exercise](section_2_sensor_data_processing/5_object_detection.ipynb)                        | [Solution](section_2_sensor_data_processing/5_object_detection_solution.ipynb) |\n",
    "| 6  | Point Cloud Occupancy Grid Mapping     | Required  |[Exercise](section_2_sensor_data_processing/6_grid_mapping.ipynb)                            | [Solution](section_2_sensor_data_processing/6_grid_mapping_solution.ipynb) |\n",
    "| 7  | Camera-based Semantic Grid Mapping     | Required  |[Exercise](section_2_sensor_data_processing/7_cam_semantic_grid_mapping.ipynb)               | [Solution](section_2_sensor_data_processing/7_cam_semantic_grid_mapping_solution.ipynb) |\n",
    "\n",
    "\n",
    "\n",
    "\n",
    "### Section 3: Object Fusion and Tracking\n",
    "- No notebook exercises for this section\n",
    "\n",
    "### Section 4: Vehicle Guidance\n",
    "\n",
    "| No.| Topic                                  | Importance| Exercise  | Solution  |\n",
    "|--- |---                                     |---        |---        |---        |\n",
    "| 1  | Route Planning using Lanelet2          | Required  | [Exercise](section_4_vehicle_guidance/1_route_planning.ipynb) | [Solution](section_4_vehicle_guidance/1_route_planning_solution.ipynb) |\n",
    "\n",
    "\n",
    "### Section 5: Connected Driving\n",
    "- No notebook exercises for this section\n"
   ]
  },
  {
   "cell_type": "markdown",
   "metadata": {},
   "source": [
    "## License\n",
    "\n",
    "MIT License\n",
    "\n",
    "Copyright 2022 Institute for Automotive Engineering of RWTH Aachen University."
   ]
  },
  {
   "cell_type": "code",
   "execution_count": null,
   "metadata": {},
   "outputs": [],
   "source": []
  }
 ],
 "metadata": {
  "kernelspec": {
   "display_name": "Python 3 (ipykernel)",
   "language": "python",
   "name": "python3"
  },
  "language_info": {
   "codemirror_mode": {
    "name": "ipython",
    "version": 3
   },
   "file_extension": ".py",
   "mimetype": "text/x-python",
   "name": "python",
   "nbconvert_exporter": "python",
   "pygments_lexer": "ipython3",
   "version": "3.8.11"
  },
  "vscode": {
   "interpreter": {
    "hash": "d46e858a35ff40b1b89ea550f691785daaae15bccbfcc9376727f80a1e0b5ac6"
   }
  }
 },
 "nbformat": 4,
 "nbformat_minor": 4
}
