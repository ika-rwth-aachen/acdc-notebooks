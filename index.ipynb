{
 "cells": [
  {
   "cell_type": "markdown",
   "metadata": {
    "jupyter": {
     "outputs_hidden": true
    }
   },
   "source": [
    "![](assets/header_image.png)"
   ]
  },
  {
   "cell_type": "markdown",
   "metadata": {},
   "source": [
    "# Overview of all Notebooks\n",
    "\n",
    "The solution to all notebooks will be made available in the ACDC course on edX.org."
   ]
  },
  {
   "attachments": {},
   "cell_type": "markdown",
   "metadata": {},
   "source": [
    "### Section 1: Introduction and Tools\n",
    "| No.| Topic                                          | Importance| Exercise  | Solution  |\n",
    "|--- |---                                             |---        |---        |---        |\n",
    "| 1  | Introduction to Jupyter Notebooks               | Optional  | [Exercise](section_1_introduction_and_tools/1_introduction_to_python_and_jupyter_notebooks.ipynb)  | N/A  |\n",
    "| 2  | Introduction to Python, NumPy and Vectorization| Optional  | [Exercise](section_1_introduction_and_tools/2_introduction_to_numpy.ipynb)  | Available on edX |\n",
    "| 3  | Introduction to ROS1                           | Optional  | [Exercise](section_1_introduction_and_tools/3_introduction_to_ros1.ipynb)  | N/A |\n",
    "| 4  | ROS1 Message Visualization                     | Optional  | [Exercise](section_1_introduction_and_tools/4_message_visualization_ros1.ipynb)  | N/A |\n",
    "| 5  | ROS1 Sensor Data Visualization                 | Optional  | [Exercise](section_1_introduction_and_tools/5_sensordata_visualization_ros1.ipynb)  | N/A |\n",
    "| 6  | ROS1 Unified Robot Description Format          | Optional  | [Exercise](section_1_introduction_and_tools/6_unified_rotbot_description_format_ros1.ipynb)  | N/A |\n",
    "\n",
    "\n",
    "\n",
    "### Section 2: Sensor Data Processing\n",
    "\n",
    "| No.| Topic                                | Importance| Exercise  | Solution  |\n",
    "|--- |---                                   |---        |---        |---        |\n",
    "| 1  | Semantic Image Segmentation          | Required  |[Exercise](section_2_sensor_data_processing/1_semantic_image_segmentation.ipynb)             | Available on edX |\n",
    "| 2  | Boosting Semantic Image Segmentation | Required  |[Exercise](section_2_sensor_data_processing/2_augmentation_semantic_image_segmentation.ipynb)| Available on edX |\n",
    "| 3  | Semantic Point Cloud Segmentation    | Required  |[Exercise](section_2_sensor_data_processing/3_semantic_pcl_segmentation.ipynb)               | Available on edX |\n",
    "| 4  | Boosting Point Cloud Segmentation    | Required  |[Exercise](section_2_sensor_data_processing/4_semantic_pcl_segmentation_boosting.ipynb)      | Available on edX |\n",
    "| 5  | Object Detection                     | Required  |[Exercise](section_2_sensor_data_processing/5_object_detection.ipynb)                        | Available on edX |\n",
    "| 6  | Point Cloud Occupancy Grid Mapping   | Required  |[Exercise](section_2_sensor_data_processing/6_grid_mapping.ipynb)                            | Available on edX |\n",
    "| 7  | Camera-based Semantic Grid Mapping   | Required  |[Exercise](section_2_sensor_data_processing/7_cam_semantic_grid_mapping.ipynb)               | Available on edX |\n",
    "| 8  | Localization                         | Required  |[Exercise](section_2_sensor_data_processing/8_localization.ipynb)                            | Available on edX |\n",
    "\n",
    "\n",
    "\n",
    "### Section 3: Object Fusion and Tracking\n",
    "- No notebook exercises for this section\n",
    "\n",
    "### Section 4: Vehicle Guidance\n",
    "\n",
    "| No.| Topic                                | Importance| Exercise  | Solution  |\n",
    "|--- |---                                   |---        |---        |---        |\n",
    "| 1  | Route Planning using Lanelet2        | Required  | [Exercise](section_4_vehicle_guidance/1_route_planning.ipynb) | Available on edX |\n",
    "\n",
    "\n",
    "### Section 5: Connected Driving\n",
    "- No notebook exercises for this section\n"
   ]
  },
  {
   "attachments": {},
   "cell_type": "markdown",
   "metadata": {},
   "source": [
    "## License\n",
    "\n",
    "MIT License\n",
    "\n",
    "Copyright 2023 Institute for Automotive Engineering of RWTH Aachen University."
   ]
  },
  {
   "cell_type": "code",
   "execution_count": null,
   "metadata": {},
   "outputs": [],
   "source": []
  }
 ],
 "metadata": {
  "kernelspec": {
   "display_name": "Python 3 (ipykernel)",
   "language": "python",
   "name": "python3"
  },
  "language_info": {
   "codemirror_mode": {
    "name": "ipython",
    "version": 3
   },
   "file_extension": ".py",
   "mimetype": "text/x-python",
   "name": "python",
   "nbconvert_exporter": "python",
   "pygments_lexer": "ipython3",
   "version": "3.9.6"
  }
 },
 "nbformat": 4,
 "nbformat_minor": 4
}
