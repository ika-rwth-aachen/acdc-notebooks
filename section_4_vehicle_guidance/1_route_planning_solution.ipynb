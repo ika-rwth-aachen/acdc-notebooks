{
 "cells": [
  {
   "cell_type": "markdown",
   "metadata": {},
   "source": [
    "![Header Image](../assets/header_image.png \"Header Image\")"
   ]
  },
  {
   "cell_type": "markdown",
   "metadata": {},
   "source": [
    "# Assignment 1: Route-Planning"
   ]
  },
  {
   "cell_type": "markdown",
   "metadata": {},
   "source": [
    "Welcome to the Route-Planning-Assignment. In this assignment we will use the [__Lanelet2__](https://github.com/fzi-forschungszentrum-informatik/Lanelet2)-library to implement a generic approach to plan a route from a start-position to a desired destination. [__Lanelet2__](https://github.com/fzi-forschungszentrum-informatik/Lanelet2) is a C++ Library which allows the handling of map-information for automated vehicles. Furthermore the library offers support for ROS so you can use it directly in your ROS-Software stack. In this assignment we will use the python-bindings to implement a route-planning algorithm within this Jupyter-Notebook. Even if we're not directly implementing the module as ROS-Node, the learned knowledge could be applied for this purpose.\n",
    "\n",
    "In this notebook you will learn how to:\n",
    "\n",
    "- Load and examining a given map\n",
    "- Initialize a routing graph\n",
    "- Define start- and end-position of the route\n",
    "- Plan and process the route\n",
    "\n",
    "__Hint:__ In the following code-blocks you might locate `None`-objects. This objects should be replaced during the coding task!"
   ]
  },
  {
   "cell_type": "markdown",
   "metadata": {},
   "source": [
    "Execute the following block to setup up the environment variables so that the Python interpreter can use the Lanelet library for the following tasks."
   ]
  },
  {
   "cell_type": "code",
   "execution_count": null,
   "metadata": {
    "scrolled": true
   },
   "outputs": [],
   "source": [
    "!source /opt/ros/noetic/setup.sh\n",
    "!source /lanelet2/devel/setup.sh"
   ]
  },
  {
   "cell_type": "markdown",
   "metadata": {
    "tags": []
   },
   "source": [
    "# Task: Loading a given map\n",
    "\n",
    "First we import all dependencies. After this step we are ready to start with the first part of this exercise."
   ]
  },
  {
   "cell_type": "code",
   "execution_count": null,
   "metadata": {
    "pycharm": {
     "name": "#%%\n"
    }
   },
   "outputs": [],
   "source": [
    "#!/usr/bin/env python\n",
    "import sys\n",
    "sys.path.append('/lanelet2/devel/lib/python3/dist-packages/')\n",
    "\n",
    "import lanelet2\n",
    "from lanelet2.core import LaneletMap, GPSPoint \n",
    "from lanelet2.projection import UtmProjector\n",
    "from route_planning_utils import *\n",
    "\n",
    "import matplotlib.pyplot as plt\n",
    "%matplotlib inline"
   ]
  },
  {
   "cell_type": "markdown",
   "metadata": {},
   "source": [
    "Now that we imported all the necessary dependencies we can start to import a given map. The map is stored as an __*.osm__ file within the folder `maps`. The map-Filename is `acdc_campus_aachen.osm`.\n",
    "\n",
    "We prepared a function `print_osm` which will print the content of the given map-file. Fill in the correct filepath and examine the output and the structure of the map-file."
   ]
  },
  {
   "cell_type": "code",
   "execution_count": null,
   "metadata": {
    "scrolled": true
   },
   "outputs": [],
   "source": [
    "### START CODE HERE ###\n",
    "print_osm(\"maps/acdc_campus_aachen.osm\")\n",
    "### END CODE HERE ###"
   ]
  },
  {
   "cell_type": "markdown",
   "metadata": {},
   "source": [
    "You will notice that the map consist from three different Elements:\n",
    "\n",
    "   - Nodes which define points in space; represent to the point-layer in the Lanelet2-framework\n",
    "   - Ways which consist from multiple points and define linear elements like lane-markings or curbs; represent to the linestring-layer in the Lanelet2-framework\n",
    "   - Relations to describe various relationships between different elements; e.g. used to define a lanelet which consists of two linestrings in the Lanelet2-framework\n",
    "   \n",
    "Furthermore you may noticed, that the position of the nodes are given as __WGS84__-coordinates. The Lanelet2 framework on the other hand works with a 2D/3D cartesian coordinate system (UTM). Therefore it is necessary to project the data stored in the map file into cartesian coordinates.\n",
    "\n",
    "The Lanelet2 library offers projection methods. To initialize a projector you can use the function `UtmProjector`. This function expects the WGS84 coordinates of the origin for the cartesian coordinate system stored as `lanelet2.io.Origin`-Object. To initialize the origin simply call the constructor and pass the `latitude` and `longitude` coordinates as function arguments. Basically you can use any origin for the projector but it is recommended to set the origin within reach of the stored map data. Accordingly you can use e.g. any coordinate from the osm file above or use the position of the parking lot with `latitude=50.787337` and `longitude=6.046488`."
   ]
  },
  {
   "cell_type": "code",
   "execution_count": null,
   "metadata": {},
   "outputs": [],
   "source": [
    "### START CODE HERE ###\n",
    "ll_origin = lanelet2.io.Origin(50.787337, 6.046488)\n",
    "projector = UtmProjector(ll_origin)\n",
    "### END CODE HERE ###"
   ]
  },
  {
   "cell_type": "markdown",
   "metadata": {},
   "source": [
    "Now that you have initialized the projector we can start loading the lanelet map using `lanelet2.io.load`. While loading the map all elements will be projected into cartesian coordinates. Therefore the loading function expects the map-filepath and a projector object.\n",
    "\n",
    "When you have sucesfully loaded the map you can pass the map-object to the function `plot_map` to visualize the road network stored in the map."
   ]
  },
  {
   "cell_type": "code",
   "execution_count": null,
   "metadata": {},
   "outputs": [],
   "source": [
    "plt.rcParams['figure.figsize'] = (24, 12)\n",
    "font = {'size'   : 18}\n",
    "plt.rc('font', **font)\n",
    "plt.gca().set_aspect('equal', 'box')\n",
    "\n",
    "### START CODE HERE ###\n",
    "ll_map = lanelet2.io.load(\"maps/acdc_campus_aachen.osm\", projector)\n",
    "plot_map(ll_map)\n",
    "### END CODE HERE ###"
   ]
  },
  {
   "cell_type": "markdown",
   "metadata": {},
   "source": [
    "# Task: Defining Start- and End-Position\n",
    "\n",
    "Now that we have loaded the map, we can define the start- and target position for the route. As the vehicles internal GPS sensor provides the position in the WGS84 system we should implement a function to transform the start- and target position in the map coordinate system. Therefore we will use the `UTMProjector` initialized before. The projector class offers a function `UtmProjector.forward` to transform a WGS84-Position into the map-frame. The function expects the projector-object and a `GPSPoint`-object. You can initialize a `GPSPoint` by passing the `latitude`, `longitude` and `altitude` to the constructor. The function will return an position as `BasicPoint3d`. For an exemplary point `p` you can access the coordinates by typing `p.x`,`p.y` and `p.z`.\n",
    "\n",
    "__Hint:__ As we are only planning a route in 2D you can set the value for the `altitude` to 0 by default! "
   ]
  },
  {
   "cell_type": "code",
   "execution_count": null,
   "metadata": {},
   "outputs": [],
   "source": [
    "def latlon2mapframe(proj, pos_lat, pos_lon):\n",
    "    \"\"\"\n",
    "    Function that projects a given lat-lon-position to utm coordinates \n",
    "    Arguments:\n",
    "    proj -- Lanelet2 utm-projector object\n",
    "    pos_lat -- latitude-coordinate of a given position\n",
    "    pos_lon -- longitude-coordinate of a given position\n",
    "    \n",
    "    Returns:\n",
    "    pos_out -- utm-position given as BasicPoint3d\n",
    "    \"\"\"\n",
    "    ### START CODE HERE ###\n",
    "    pos_in = GPSPoint(pos_lat,pos_lon,0.0)\n",
    "    pos_out = UtmProjector.forward(proj, pos_in)\n",
    "    ### END CODE HERE ###\n",
    "    return pos_out"
   ]
  },
  {
   "cell_type": "markdown",
   "metadata": {},
   "source": [
    "Now we can define a start and an end position, transfer these positions to the map frame and visualize them on the map. To transfer the points use the function defined above. You can define the start and end position by yourself. Therfore you may use online tools e.g. [latlong](https://www.latlong.net/) or [GoogleMaps](https://www.google.de/maps/) to select the coordinates within the area of the map.\n",
    "\n",
    "Some exemplary coordinates could be the entry of the roundabout (`latitude=50.787392`, `longitude=6.050978`) and the ika parking lot (`latitude=50.787337`, `longitude=6.046488`)."
   ]
  },
  {
   "cell_type": "code",
   "execution_count": null,
   "metadata": {},
   "outputs": [],
   "source": [
    "### START CODE HERE ###\n",
    "start_lat = 50.787392\n",
    "start_lon = 6.050978\n",
    "end_lat = 50.787337\n",
    "end_lon = 6.046488\n",
    "map_start = latlon2mapframe(projector, start_lat, start_lon)\n",
    "map_end = latlon2mapframe(projector, end_lat, end_lon)\n",
    "### END CODE HERE ###"
   ]
  },
  {
   "cell_type": "markdown",
   "metadata": {},
   "source": [
    "To visualize your projected positions on the map, just plot the map (using `plot_map(...)`) and replace the `[]`'s of the following code-block with the `x` and `y`-coordinates of the resulting start and end position. The start position will be represented by a red dot, while the end position is visualized as green dot!\n",
    "\n",
    "__Hint:__ The function `latlon2mapframe` will return an position as `BasicPoint3d`. For an exemplary point `p` you can access the coordinates by typing `p.x`,`p.y` and `p.z`."
   ]
  },
  {
   "cell_type": "code",
   "execution_count": null,
   "metadata": {},
   "outputs": [],
   "source": [
    "plt.gca().set_aspect('equal', 'box')\n",
    "\n",
    "### START CODE HERE ###\n",
    "#Visualize Map --> plot_map(...)\n",
    "plot_map(ll_map)\n",
    "### END CODE HERE ###\n",
    "\n",
    "#Visualize Start Position\n",
    "def plot_start_position(start_pos):\n",
    "    \"\"\"\n",
    "    Function that visualizes a given start-position as green marker\n",
    "    Arguments:\n",
    "    start_pos -- utm-coordinates of the start-position\n",
    "    \n",
    "    Returns:\n",
    "    None\n",
    "    \"\"\"\n",
    "### START CODE HERE ###\n",
    "    plt.plot(start_pos.x, start_pos.y,'.r',markersize=15)\n",
    "### END CODE HERE ###\n",
    "\n",
    "#Visualize End Position\n",
    "def plot_end_position(end_pos):\n",
    "    \"\"\"\n",
    "    Function that visualizes a given end-position as red marker\n",
    "    Arguments:\n",
    "    end_pos -- utm-coordinates of the end-position\n",
    "    \n",
    "    Returns:\n",
    "    None\n",
    "    \"\"\"\n",
    "### START CODE HERE ###\n",
    "    plt.plot(end_pos.x, end_pos.y,'.g',markersize=15)\n",
    "### END CODE HERE ###\n",
    "\n",
    "plot_start_position(map_start)\n",
    "plot_end_position(map_end)"
   ]
  },
  {
   "cell_type": "markdown",
   "metadata": {},
   "source": [
    "# Task: Initializing the RoutingGraph\n",
    "\n",
    "Now that we have defined start and end position sucesfully, we are prepared to plan a route from a given start position to a desired destination. As you've already learned the problem of route planning can be solved with graph-search algorithms like e.g. the Dijkstra-Algorithm used by the Lanelet2 framework. To perform a graph-search we need a graph representation of the map. Within the Lanelet2 framework the graph is described as __routing-graph__.\n",
    "\n",
    "The routing-graph can be constructed using the function `lanelet2.routing.RoutingGraph`. This function expects the lanelet2-map-object and a traffic-rules-object. The need of traffic rules to create the routing graph depends on the fact that e.g. a pedestrian is allowed to walk on the pavement while a car is allowed to drive on the road only. Therfore it should get clear, that the routing graph differs for different traffic participants.\n",
    "\n",
    "To generate the traffic-rules you can call the function `lanelet2.traffic_rules.create`. This function expects the nomination of the location and the participant for who the rules should be generated. In this case you should use `lanelet2.traffic_rules.Locations.Germany` as first and `lanelet2.traffic_rules.Participants.Vehicle` as second argument."
   ]
  },
  {
   "cell_type": "code",
   "execution_count": null,
   "metadata": {},
   "outputs": [],
   "source": [
    "### START CODE HERE ###\n",
    "trafficRules = lanelet2.traffic_rules.create(lanelet2.traffic_rules.Locations.Germany, lanelet2.traffic_rules.Participants.Vehicle)\n",
    "routingGraph = lanelet2.routing.RoutingGraph(ll_map, trafficRules)\n",
    "### END CODE HERE ###"
   ]
  },
  {
   "cell_type": "markdown",
   "metadata": {},
   "source": [
    "# Task: Planning a Route\n",
    "\n",
    "To plan a route the routing graph object offers the function `getRoute`. This function expects a start- and an end-lanelet as input. For this reason we need to identify the nearest lanelets to the previously defined start and end position.\n",
    "\n",
    "Therefore we want to define the function `find_nearest_lanelet` which expects the map object and a position given as `BasicPoint3d` (output of `latlon2mapframe`). The resulting function should return the `lanelet`-object nearest to the input position. To that you can use the function `lanelet2.geometry.findWithin3d`. This function can be applied to several layers of the lanelet-map. As already mentioned the lanelet map is composed from different primitives (e.g. `point`->`linestring`->`lanelet`). You can access the different layers of a lanelet map by typing `map.<LayerType>`. \n",
    "\n",
    "In this case we want to find the nearest lanelet. Therfore we should pass the `laneletLayer` to the function. Next to the layer, the function `lanelet2.geometry.findWithin3d` expects the position where we would like to find lanelets (as `BasicPoint3d`) and a search radius (e.g. `5.0` m). If some lanelets are found at the given position within the defined search radius, the function will return a list containing a pair `<distance, lanelet>`. The list is sorted with rising distance of the lanelet from defined position. Therefore you can access the nearest lanelet-object by typing `lanelets[0][1]`. Consider the possibility that no lanelet could be found. In this case `lanelet2.geometry.findWithin3d` will return an empty list. Thats why you should check the length of the list (e.g. `len(a_list)`) with an if-query. Moreover the function `lanelet2.geometry.findWithin3d` could return a lanelet which is not driveable by a vehicle (e.g. a walkway). Therefore you should check if the vehicle could pass the given lanelet. There to the traffic rules object offers a function `canPass(...)` which expects a lanelet object as an input. If the given lanelet can be used by the participant defined in the traffic rules, this function will return `True`. To avoid returning a lanelet which cannot be passed by the vehicle, include a check to only return the nearest lanelet, which can be utilized by the vehicle."
   ]
  },
  {
   "cell_type": "code",
   "execution_count": null,
   "metadata": {},
   "outputs": [],
   "source": [
    "def find_nearest_lanelet(ll_map, pos, rules):\n",
    "    \"\"\"\n",
    "    Function that returns the lanelet-object nearest to the input position\n",
    "    Arguments:\n",
    "    ll_map -- Lanelet2 map-object\n",
    "    pos -- `BasicPoint3d` position where lanelet objects shall be found\n",
    "    rules -- Lanelet2 traffic-rules object\n",
    "    \n",
    "    Returns:\n",
    "    ll -- lanelet-object nearest to the given input position\n",
    "    \"\"\"\n",
    "    ### START CODE HERE ###\n",
    "    lanelets=lanelet2.geometry.findWithin3d(ll_map.laneletLayer, pos, 5.0)\n",
    "    if(len(lanelets)>0):\n",
    "        print(\"Lanelets found at given map-position!\")\n",
    "        for ll in lanelets:\n",
    "            if(rules.canPass(ll[1])):\n",
    "                return ll[1]\n",
    "        print(\"No Lanelet found which can be used by a vehicle!\")\n",
    "        return\n",
    "    ### END CODE HERE ###\n",
    "    else:\n",
    "        print(\"No Lanelets found at given map-position!\")\n",
    "        return"
   ]
  },
  {
   "cell_type": "markdown",
   "metadata": {},
   "source": [
    "Now that you have implemented the function `find_nearest_lanelet` you can use it to determine the start- and the end-lanelet for the route-planning process. You may print the `ID` of the resulting lanelets. You can access the ID of an lanelet-object by typing `ll_object.id`."
   ]
  },
  {
   "cell_type": "code",
   "execution_count": null,
   "metadata": {},
   "outputs": [],
   "source": [
    "### START CODE HERE ###\n",
    "start_lanelet = find_nearest_lanelet(ll_map, map_start, trafficRules)\n",
    "print(\"ID of Start-Lanelet: \", start_lanelet.id)\n",
    "end_lanelet = find_nearest_lanelet(ll_map, map_end, trafficRules)\n",
    "print(\"ID of End-Lanelet: \", end_lanelet.id)\n",
    "### END CODE HERE ###"
   ]
  },
  {
   "cell_type": "markdown",
   "metadata": {},
   "source": [
    "With the start- and end-lanelet of the route we are able to plan it. We already mentioned, that the `routingGraph`-Object offers the function `getRoute`. You should pass the start- and end-lanelet-object to the function. If the end-lanelet is reachable within the given map, the function will return an route object. From this route object we need to derive the shortest path. The following figure emphasizes the difference between a route and the shortest path.\n",
    "\n",
    "![](https://raw.githubusercontent.com/fzi-forschungszentrum-informatik/Lanelet2/master/lanelet2_routing/doc/images/shortest_path_and_route.png)\n",
    "\n",
    "Image: [github.com/fzi-forschungszentrum-informatik/Lanelet2](https://github.com/fzi-forschungszentrum-informatik/Lanelet2/blob/master/lanelet2_routing/doc/images/shortest_path_and_route.png)\n",
    "\n",
    "Especially for roads with multiple lanes (e.g. highways) the difference gets clear:\n",
    "\n",
    "While the route contains all lanelets reaching from the start to the end position (without choosing a completly different road), the shortest path only consists the lanelets which lead the vehicle to the target position respecting the minimization of a specified cost function.\n",
    "\n",
    "To access the shortest path, the route-object offerst the function `shortestPath` which returns the shortest-path-object.\n",
    "\n",
    "Within the following code-block you should call the function `getRoute` and check if the route is valid (if no route is possible `getRoute` will return `None`; use an `if-else`-query here). Afterwards you can call the function `shortestPath`. This function will return a list of lanelet-objects. Iterate over this list (`for a in b`) and print the ID's of all lanelets consecuting the shortest path."
   ]
  },
  {
   "cell_type": "code",
   "execution_count": null,
   "metadata": {
    "scrolled": true
   },
   "outputs": [],
   "source": [
    "### START CODE HERE ###\n",
    "route = routingGraph.getRoute(start_lanelet, end_lanelet)\n",
    "\n",
    "if (route is not None):\n",
    "    ll_path = route.shortestPath()\n",
    "    print(\"Lanelets (IDs) consecuting the shortest path:\")\n",
    "    for ll in ll_path:\n",
    "        print(ll.id)\n",
    "### END CODE HERE ###\n",
    "else:\n",
    "    print(\"Route planning is not possible!\")"
   ]
  },
  {
   "cell_type": "markdown",
   "metadata": {},
   "source": [
    "# Task: Processing and Visualizing the Route"
   ]
  },
  {
   "cell_type": "markdown",
   "metadata": {},
   "source": [
    "As mentioned in the theory-videos, the result of the algorithms on Navigation-Level (e.g. the route) may be used as reference for the algorithms on Guidance- and Stabilization-Level. Therfore we need to derive a path from the sequence of lanelets using the function `lanelets2path`. This function expects the `shortestPath` determined before.\n",
    "\n",
    "We want to return two lists containing the x- and y-coordinates of the path. The path usually describes the centerline of the road. Therfore we need to extract the centerline of each lanelet. There to you can access the centerline by typing `ll.centerline` which returns a list of points with x- and y-coordinates.\n",
    "\n",
    "In the following function first iterate over all lanelets in the shortest path. For each lanelet determine the point-list describing the centerline of the lanelet. Then you need to iterate over this point list to derive the x- and y-coordinates of each waypoint `p`. Add these coordinates to the lists `x` and `y` using `x.append(p.x)` i.e. `y.append(p.y)`. "
   ]
  },
  {
   "cell_type": "code",
   "execution_count": null,
   "metadata": {},
   "outputs": [],
   "source": [
    "def lanelets2path(lanelet_path):\n",
    "    \"\"\"\n",
    "    Function that derives a x-y-path from a given lanelet-sequence\n",
    "    Arguments:\n",
    "    lanelet_path -- list of lanelet objects consecuting the shortest path\n",
    "    \n",
    "    Returns:\n",
    "    x -- list of x-coordinates of the resulting path\n",
    "    y -- list of y-coordinates of the resulting path\n",
    "    \"\"\"\n",
    "    x=[]\n",
    "    y=[]\n",
    "### START CODE HERE ###\n",
    "    for ll in lanelet_path:\n",
    "        cl = ll.centerline\n",
    "        for p in cl:\n",
    "            x.append(p.x)\n",
    "            y.append(p.y)\n",
    "### END CODE HERE ###\n",
    "    return x, y"
   ]
  },
  {
   "cell_type": "markdown",
   "metadata": {},
   "source": [
    "Now that you have defined the function `lanelets2path` you can call this function. The following code-block will moreover visualize the map, the start- and end-position and the resulting path!"
   ]
  },
  {
   "cell_type": "code",
   "execution_count": null,
   "metadata": {},
   "outputs": [],
   "source": [
    "plt.gca().set_aspect('equal', 'box')\n",
    "\n",
    "### START CODE HERE ###\n",
    "#Calculate Map Path\n",
    "path=lanelets2path(ll_path)\n",
    "\n",
    "#Visualize Map --> plot_map(...)\n",
    "plot_map(ll_map)\n",
    "### END CODE HERE ###\n",
    "\n",
    "#Visualize Path\n",
    "plt.plot(path[0],path[1],'b')\n",
    "#Visualize Start Position\n",
    "plot_start_position(map_start)\n",
    "#Visualize End Position\n",
    "plot_end_position(map_end)"
   ]
  },
  {
   "cell_type": "markdown",
   "metadata": {},
   "source": [
    "Congratulations! You finished the Assignment `Route-Planning`!\n",
    "\n",
    "Feel free to play around with the implemented tool e.g. vary the start and end position (with help of e.g. [latlong](https://www.latlong.net/) or [GoogleMaps](https://www.google.de/maps/))!\n",
    "\n",
    "__Hint:__ Don't close this jupyter notebook, you may need it to answer the questions in the __edX-Quiz__ regarding this assignment!"
   ]
  },
  {
   "cell_type": "markdown",
   "metadata": {
    "tags": []
   },
   "source": [
    "# Wrap Up\n",
    "- You learned how to load a road network,\n",
    "- how to use projections from WGS84 to UTM coordinates,\n",
    "- how to initialize a routing-graph,\n",
    "- you got to know the difference between the route and shortest path and\n",
    "- you learned how to plan and post-process a route...\n",
    "\n",
    "...using the lanelet2 framework!"
   ]
  },
  {
   "cell_type": "markdown",
   "metadata": {},
   "source": [
    "## References"
   ]
  },
  {
   "cell_type": "markdown",
   "metadata": {
    "tags": []
   },
   "source": [
    "#### Lanelet2"
   ]
  },
  {
   "cell_type": "raw",
   "metadata": {},
   "source": [
    "@inproceedings{poggenhans2018lanelet2,\n",
    "  title     = {Lanelet2: A High-Definition Map Framework for the Future of Automated Driving},\n",
    "  author    = {Poggenhans, Fabian and Pauls, Jan-Hendrik and Janosovits, Johannes and Orf, Stefan and Naumann, Maximilian and Kuhnt, Florian and Mayr, Matthias},\n",
    "  booktitle = {Proc.\\ IEEE Intell.\\ Trans.\\ Syst.\\ Conf.},\n",
    "  year      = {2018},\n",
    "  address   = {Hawaii, USA},\n",
    "  owner     = {poggenhans},\n",
    "  month     = {November},\n",
    "  Url={http://www.mrt.kit.edu/z/publ/download/2018/Poggenhans2018Lanelet2.pdf}\n",
    "}"
   ]
  },
  {
   "cell_type": "markdown",
   "metadata": {},
   "source": [
    "## License\n",
    "\n",
    "MIT License\n",
    "\n",
    "Copyright 2022 Institute for Automotive Engineering of RWTH Aachen University."
   ]
  }
 ],
 "metadata": {
  "kernelspec": {
   "display_name": "Python 3 (ipykernel)",
   "language": "python",
   "name": "python3"
  },
  "language_info": {
   "codemirror_mode": {
    "name": "ipython",
    "version": 3
   },
   "file_extension": ".py",
   "mimetype": "text/x-python",
   "name": "python",
   "nbconvert_exporter": "python",
   "pygments_lexer": "ipython3",
   "version": "3.9.6"
  }
 },
 "nbformat": 4,
 "nbformat_minor": 4
}
